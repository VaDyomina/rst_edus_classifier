{
 "cells": [
  {
   "cell_type": "code",
   "execution_count": 1,
   "metadata": {},
   "outputs": [
    {
     "name": "stdout",
     "output_type": "stream",
     "text": [
      "Requirement already satisfied: tqdm in /usr/local/lib/python3.7/site-packages (4.46.0)\n",
      "Requirement already satisfied: pandas in /usr/local/lib/python3.7/site-packages (1.0.3)\n",
      "Requirement already satisfied: matplotlib in /usr/local/lib/python3.7/site-packages (3.2.1)\n",
      "Requirement already satisfied: numpy>=1.13.3 in /usr/local/lib/python3.7/site-packages (from pandas) (1.18.4)\n",
      "Requirement already satisfied: pytz>=2017.2 in /usr/local/lib/python3.7/site-packages (from pandas) (2020.1)\n",
      "Requirement already satisfied: python-dateutil>=2.6.1 in /usr/local/lib/python3.7/site-packages (from pandas) (2.8.1)\n",
      "Requirement already satisfied: cycler>=0.10 in /usr/local/lib/python3.7/site-packages (from matplotlib) (0.10.0)\n",
      "Requirement already satisfied: kiwisolver>=1.0.1 in /usr/local/lib/python3.7/site-packages (from matplotlib) (1.2.0)\n",
      "Requirement already satisfied: pyparsing!=2.0.4,!=2.1.2,!=2.1.6,>=2.0.1 in /usr/local/lib/python3.7/site-packages (from matplotlib) (2.4.7)\n",
      "Requirement already satisfied: six>=1.5 in /usr/local/lib/python3.7/site-packages (from python-dateutil>=2.6.1->pandas) (1.14.0)\n"
     ]
    }
   ],
   "source": [
    "from sys import executable\n",
    "!{executable} -m pip install tqdm pandas matplotlib"
   ]
  },
  {
   "cell_type": "code",
   "execution_count": 2,
   "metadata": {},
   "outputs": [
    {
     "name": "stderr",
     "output_type": "stream",
     "text": [
      "/usr/local/lib/python3.7/site-packages/pandas/compat/__init__.py:117: UserWarning: Could not import the lzma module. Your installed Python is incomplete. Attempting to use lzma compression will result in a RuntimeError.\n",
      "  warnings.warn(msg)\n",
      "/usr/local/lib/python3.7/site-packages/ipykernel_launcher.py:4: TqdmExperimentalWarning: Using `tqdm.autonotebook.tqdm` in notebook mode. Use `tqdm.tqdm` instead to force console mode (e.g. in jupyter console)\n",
      "  after removing the cwd from sys.path.\n"
     ]
    }
   ],
   "source": [
    "from os import listdir\n",
    "from os.path import isfile, join\n",
    "import pandas as pd\n",
    "from tqdm.autonotebook import tqdm"
   ]
  },
  {
   "cell_type": "markdown",
   "metadata": {},
   "source": [
    "### Preprocess files with https://github.com/amir-zeldes/rst2dep"
   ]
  },
  {
   "cell_type": "code",
   "execution_count": 3,
   "metadata": {},
   "outputs": [
    {
     "data": {
      "application/vnd.jupyter.widget-view+json": {
       "model_id": "985c3ab79bd940d7b0cf0e5ae20f3316",
       "version_major": 2,
       "version_minor": 0
      },
      "text/plain": [
       "HBox(children=(FloatProgress(value=0.0, max=103.0), HTML(value='')))"
      ]
     },
     "metadata": {},
     "output_type": "display_data"
    },
    {
     "name": "stdout",
     "output_type": "stream",
     "text": [
      "Traceback (most recent call last):\n",
      "  File \"./rst2dep/rst2dep.py\", line 425, in <module>\n",
      "    nodes = read_rst(rstfile,{})\n",
      "  File \"./rst2dep/rst2dep.py\", line 244, in read_rst\n",
      "    contents = segment.childNodes[0].data.strip()\n",
      "IndexError: list index out of range\n",
      "Traceback (most recent call last):\n",
      "  File \"./rst2dep/rst2dep.py\", line 441, in <module>\n",
      "    edus = list(nodes[nid] for nid in nodes if nodes[nid].kind==\"edu\")\n",
      "  File \"./rst2dep/rst2dep.py\", line 441, in <genexpr>\n",
      "    edus = list(nodes[nid] for nid in nodes if nodes[nid].kind==\"edu\")\n",
      "TypeError: string indices must be integers, not str\n",
      "Traceback (most recent call last):\n",
      "  File \"./rst2dep/rst2dep.py\", line 441, in <module>\n",
      "    edus = list(nodes[nid] for nid in nodes if nodes[nid].kind==\"edu\")\n",
      "  File \"./rst2dep/rst2dep.py\", line 441, in <genexpr>\n",
      "    edus = list(nodes[nid] for nid in nodes if nodes[nid].kind==\"edu\")\n",
      "TypeError: string indices must be integers, not str\n",
      "Traceback (most recent call last):\n",
      "  File \"./rst2dep/rst2dep.py\", line 441, in <module>\n",
      "    edus = list(nodes[nid] for nid in nodes if nodes[nid].kind==\"edu\")\n",
      "  File \"./rst2dep/rst2dep.py\", line 441, in <genexpr>\n",
      "    edus = list(nodes[nid] for nid in nodes if nodes[nid].kind==\"edu\")\n",
      "TypeError: string indices must be integers, not str\n",
      "Traceback (most recent call last):\n",
      "  File \"./rst2dep/rst2dep.py\", line 441, in <module>\n",
      "    edus = list(nodes[nid] for nid in nodes if nodes[nid].kind==\"edu\")\n",
      "  File \"./rst2dep/rst2dep.py\", line 441, in <genexpr>\n",
      "    edus = list(nodes[nid] for nid in nodes if nodes[nid].kind==\"edu\")\n",
      "TypeError: string indices must be integers, not str\n",
      "Traceback (most recent call last):\n",
      "  File \"./rst2dep/rst2dep.py\", line 441, in <module>\n",
      "    edus = list(nodes[nid] for nid in nodes if nodes[nid].kind==\"edu\")\n",
      "  File \"./rst2dep/rst2dep.py\", line 441, in <genexpr>\n",
      "    edus = list(nodes[nid] for nid in nodes if nodes[nid].kind==\"edu\")\n",
      "TypeError: string indices must be integers, not str\n",
      "Traceback (most recent call last):\n",
      "  File \"./rst2dep/rst2dep.py\", line 425, in <module>\n",
      "    nodes = read_rst(rstfile,{})\n",
      "  File \"./rst2dep/rst2dep.py\", line 244, in read_rst\n",
      "    contents = segment.childNodes[0].data.strip()\n",
      "IndexError: list index out of range\n",
      "Traceback (most recent call last):\n",
      "  File \"./rst2dep/rst2dep.py\", line 425, in <module>\n",
      "    nodes = read_rst(rstfile,{})\n",
      "  File \"./rst2dep/rst2dep.py\", line 244, in read_rst\n",
      "    contents = segment.childNodes[0].data.strip()\n",
      "IndexError: list index out of range\n",
      "Traceback (most recent call last):\n",
      "  File \"./rst2dep/rst2dep.py\", line 441, in <module>\n",
      "    edus = list(nodes[nid] for nid in nodes if nodes[nid].kind==\"edu\")\n",
      "  File \"./rst2dep/rst2dep.py\", line 441, in <genexpr>\n",
      "    edus = list(nodes[nid] for nid in nodes if nodes[nid].kind==\"edu\")\n",
      "TypeError: string indices must be integers, not str\n",
      "Traceback (most recent call last):\n",
      "  File \"./rst2dep/rst2dep.py\", line 425, in <module>\n",
      "    nodes = read_rst(rstfile,{})\n",
      "  File \"./rst2dep/rst2dep.py\", line 244, in read_rst\n",
      "    contents = segment.childNodes[0].data.strip()\n",
      "IndexError: list index out of range\n",
      "\n"
     ]
    }
   ],
   "source": [
    "# Processing rs3 files with Zeldes's parser\n",
    "base_dir = \"./\"\n",
    "rs3_dir = base_dir + \"data/blogs/rs3/\"\n",
    "\n",
    "rs3_files = [rs3_dir + file for file in listdir(rs3_dir) if file.endswith('.rs3')]\n",
    "\n",
    "for file_name in tqdm(rs3_files):\n",
    "    !./rst2dep/rst2dep.py {file_name}"
   ]
  },
  {
   "cell_type": "code",
   "execution_count": 4,
   "metadata": {},
   "outputs": [
    {
     "data": {
      "text/plain": [
       "'We have a 9.71% data loss with this parser'"
      ]
     },
     "execution_count": 4,
     "metadata": {},
     "output_type": "execute_result"
    }
   ],
   "source": [
    "# Counting lost files \n",
    "rsd_dir = base_dir + \"data/blogs/rsd/\"\n",
    "rsd_files = [file for file in listdir(rsd_dir) if file.endswith('.rsd')]\n",
    "\n",
    "f\"We have a {100 - len(rsd_files) / len(rs3_files) * 100 :.2f}% data loss with this parser\""
   ]
  },
  {
   "cell_type": "markdown",
   "metadata": {},
   "source": [
    "### Parse preprocessed files and process them to csv"
   ]
  },
  {
   "cell_type": "code",
   "execution_count": 5,
   "metadata": {},
   "outputs": [],
   "source": [
    "import re\n",
    "\n",
    "URL_REGEXP = r'\\w+:\\/{2}[\\d\\w-]+(\\.[\\d\\w-]+)*(?:(?:\\/[^\\s/]*))*'\n",
    "\n",
    "def process_string(string, file_name):\n",
    "    '''\n",
    "    Function for deleting EDUs containing IMG,\n",
    "    changes URLs to \"здесь\",\n",
    "    changes \"minus\" to \"longdash\"\n",
    "    '''\n",
    "    string = string.replace('IMG', '')\n",
    "    string = re.sub(URL_REGEXP, 'здесь', string)\n",
    "    string = re.sub(r'[0-9]+$', '', string)\n",
    "\n",
    "    if string.startswith(\"-\"):\n",
    "        string = u\"—\" + string[1:]\n",
    "\n",
    "    return string.strip()"
   ]
  },
  {
   "cell_type": "code",
   "execution_count": 6,
   "metadata": {},
   "outputs": [
    {
     "data": {
      "application/vnd.jupyter.widget-view+json": {
       "model_id": "cdbf83b159c1464c8a453a421e3f7121",
       "version_major": 2,
       "version_minor": 0
      },
      "text/plain": [
       "HBox(children=(FloatProgress(value=0.0, max=93.0), HTML(value='')))"
      ]
     },
     "metadata": {},
     "output_type": "display_data"
    },
    {
     "name": "stdout",
     "output_type": "stream",
     "text": [
      "\n"
     ]
    }
   ],
   "source": [
    "import csv\n",
    "from io import StringIO\n",
    "\n",
    "processed_dir = base_dir + 'data/blogs/processed/'\n",
    "\n",
    "for file_name in tqdm(rsd_files): \n",
    "    # headers\n",
    "    result = ['EDU_1;EDU_2;Relation'] \n",
    "\n",
    "    # opens rsd-file\n",
    "    with open(rsd_dir + file_name) as file: \n",
    "        csv_str = file.read() + '\\n' \n",
    "        # We need to delete the ' and \" characters from the csv\n",
    "        escaped_csv_str = csv_str.replace(\"\\\"\", '').replace(\"\\'\", '').replace(\";\", '')\n",
    "\n",
    "    # reading csv to df  \n",
    "    df = pd.read_csv(StringIO(escaped_csv_str),\n",
    "                     sep=\"\\t\",\n",
    "                     encoding='utf-8',\n",
    "                     names=[\"self_id\", \"snippet\", \"q\", \"w\", \"e\", \"feats\", \"dep_parent\", \"dep_rel\", \"r\", \"t\"])\n",
    "    \n",
    "    # deleting ROOTs (the highest groups of EDUs in the hierarchy) and EDUs which are IMG files\n",
    "    for index, row in df.iterrows():\n",
    "        if row['dep_rel'].strip() == 'ROOT' or row['snippet'].strip() == \"IMG\":\n",
    "            continue\n",
    "            \n",
    "        # searching parent for EDU1\n",
    "        parent_snippet_vals = df[df['self_id'] == row['dep_parent']].values\n",
    "\n",
    "        if len(parent_snippet_vals) != 0:\n",
    "            snippet_text = process_string(row['snippet'], file_name)\n",
    "            parent_text = process_string(parent_snippet_vals[0][1], file_name)\n",
    "\n",
    "            result.append(';'.join([snippet_text,\n",
    "                                   parent_text,\n",
    "                                   row['dep_rel']]))\n",
    "            \n",
    "        # writing result into csv\n",
    "        with open(processed_dir + file_name[:-4] + '.csv', 'w', encoding='utf-8') as fout:\n",
    "            fout.write('\\n'.join(result))"
   ]
  },
  {
   "cell_type": "markdown",
   "metadata": {},
   "source": [
    "### Merging CSV files into DataFrame"
   ]
  },
  {
   "cell_type": "code",
   "execution_count": 7,
   "metadata": {},
   "outputs": [],
   "source": [
    "import glob"
   ]
  },
  {
   "cell_type": "code",
   "execution_count": 8,
   "metadata": {},
   "outputs": [
    {
     "data": {
      "text/html": [
       "<div>\n",
       "<style scoped>\n",
       "    .dataframe tbody tr th:only-of-type {\n",
       "        vertical-align: middle;\n",
       "    }\n",
       "\n",
       "    .dataframe tbody tr th {\n",
       "        vertical-align: top;\n",
       "    }\n",
       "\n",
       "    .dataframe thead th {\n",
       "        text-align: right;\n",
       "    }\n",
       "</style>\n",
       "<table border=\"1\" class=\"dataframe\">\n",
       "  <thead>\n",
       "    <tr style=\"text-align: right;\">\n",
       "      <th></th>\n",
       "      <th>EDU_1</th>\n",
       "      <th>EDU_2</th>\n",
       "      <th>Relation</th>\n",
       "    </tr>\n",
       "  </thead>\n",
       "  <tbody>\n",
       "    <tr>\n",
       "      <th>0</th>\n",
       "      <td>После поездки в 2017 на Бали я вспомнил, что о...</td>\n",
       "      <td>поэтому в 2018 полетели снова в теплые края, н...</td>\n",
       "      <td>cause_r</td>\n",
       "    </tr>\n",
       "    <tr>\n",
       "      <th>1</th>\n",
       "      <td>поэтому в 2018 полетели снова в теплые края, н...</td>\n",
       "      <td>есть, что посмотреть.</td>\n",
       "      <td>preparation_r</td>\n",
       "    </tr>\n",
       "    <tr>\n",
       "      <th>2</th>\n",
       "      <td>(только сейчас руки дошли написать!).</td>\n",
       "      <td>поэтому в 2018 полетели снова в теплые края, н...</td>\n",
       "      <td>evaluation_r</td>\n",
       "    </tr>\n",
       "    <tr>\n",
       "      <th>3</th>\n",
       "      <td>В общем, прекрасное место!</td>\n",
       "      <td>поэтому в 2018 полетели снова в теплые края, н...</td>\n",
       "      <td>evaluation_r</td>\n",
       "    </tr>\n",
       "    <tr>\n",
       "      <th>4</th>\n",
       "      <td>Остров не маленький,</td>\n",
       "      <td>есть, что посмотреть.</td>\n",
       "      <td>cause_r</td>\n",
       "    </tr>\n",
       "    <tr>\n",
       "      <th>...</th>\n",
       "      <td>...</td>\n",
       "      <td>...</td>\n",
       "      <td>...</td>\n",
       "    </tr>\n",
       "    <tr>\n",
       "      <th>11752</th>\n",
       "      <td>и примерно такой же будет всегда.</td>\n",
       "      <td>она такая сейчас</td>\n",
       "      <td>sequence_m</td>\n",
       "    </tr>\n",
       "    <tr>\n",
       "      <th>11753</th>\n",
       "      <td>Надеяться уже в принципе не на что.</td>\n",
       "      <td>Это неотъемлемые свойства платформы,</td>\n",
       "      <td>joint_m</td>\n",
       "    </tr>\n",
       "    <tr>\n",
       "      <th>11754</th>\n",
       "      <td>И не то чтобы у меня было для вас что-то получше,</td>\n",
       "      <td>Надеяться уже в принципе не на что.</td>\n",
       "      <td>elaboration_r</td>\n",
       "    </tr>\n",
       "    <tr>\n",
       "      <th>11755</th>\n",
       "      <td>или что я могу сказать, где будущее.</td>\n",
       "      <td>И не то чтобы у меня было для вас что-то получше,</td>\n",
       "      <td>joint_m</td>\n",
       "    </tr>\n",
       "    <tr>\n",
       "      <th>11756</th>\n",
       "      <td>Все что я могу сказать что оно точно не здесь.</td>\n",
       "      <td>И не то чтобы у меня было для вас что-то получше,</td>\n",
       "      <td>contrast_m</td>\n",
       "    </tr>\n",
       "  </tbody>\n",
       "</table>\n",
       "<p>11736 rows × 3 columns</p>\n",
       "</div>"
      ],
      "text/plain": [
       "                                                   EDU_1  \\\n",
       "0      После поездки в 2017 на Бали я вспомнил, что о...   \n",
       "1      поэтому в 2018 полетели снова в теплые края, н...   \n",
       "2                  (только сейчас руки дошли написать!).   \n",
       "3                             В общем, прекрасное место!   \n",
       "4                                   Остров не маленький,   \n",
       "...                                                  ...   \n",
       "11752                  и примерно такой же будет всегда.   \n",
       "11753                Надеяться уже в принципе не на что.   \n",
       "11754  И не то чтобы у меня было для вас что-то получше,   \n",
       "11755               или что я могу сказать, где будущее.   \n",
       "11756     Все что я могу сказать что оно точно не здесь.   \n",
       "\n",
       "                                                   EDU_2       Relation  \n",
       "0      поэтому в 2018 полетели снова в теплые края, н...        cause_r  \n",
       "1                                  есть, что посмотреть.  preparation_r  \n",
       "2      поэтому в 2018 полетели снова в теплые края, н...   evaluation_r  \n",
       "3      поэтому в 2018 полетели снова в теплые края, н...   evaluation_r  \n",
       "4                                  есть, что посмотреть.        cause_r  \n",
       "...                                                  ...            ...  \n",
       "11752                                   она такая сейчас     sequence_m  \n",
       "11753               Это неотъемлемые свойства платформы,        joint_m  \n",
       "11754                Надеяться уже в принципе не на что.  elaboration_r  \n",
       "11755  И не то чтобы у меня было для вас что-то получше,        joint_m  \n",
       "11756  И не то чтобы у меня было для вас что-то получше,     contrast_m  \n",
       "\n",
       "[11736 rows x 3 columns]"
      ]
     },
     "execution_count": 8,
     "metadata": {},
     "output_type": "execute_result"
    }
   ],
   "source": [
    "all_files = glob.glob(processed_dir + \"/*.csv\")\n",
    "df_list = [pd.read_csv(filename, index_col=None, header=0, sep=';') for filename in all_files]\n",
    "\n",
    "df = pd.concat(df_list, axis=0, ignore_index=True)\n",
    "df.dropna()"
   ]
  },
  {
   "cell_type": "markdown",
   "metadata": {},
   "source": [
    "### Analytics"
   ]
  },
  {
   "cell_type": "code",
   "execution_count": 9,
   "metadata": {},
   "outputs": [],
   "source": [
    "import matplotlib.pyplot as plt\n",
    "\n",
    "plt.style.use('ggplot')\n",
    "plt.rcParams['figure.figsize'] = (12, 12)\n",
    "plt.rcParams['font.size'] = 12\n",
    "\n",
    "pd.options.display.float_format = '{:,.3f}'.format"
   ]
  },
  {
   "cell_type": "code",
   "execution_count": 10,
   "metadata": {},
   "outputs": [
    {
     "data": {
      "text/html": [
       "<div>\n",
       "<style scoped>\n",
       "    .dataframe tbody tr th:only-of-type {\n",
       "        vertical-align: middle;\n",
       "    }\n",
       "\n",
       "    .dataframe tbody tr th {\n",
       "        vertical-align: top;\n",
       "    }\n",
       "\n",
       "    .dataframe thead th {\n",
       "        text-align: right;\n",
       "    }\n",
       "</style>\n",
       "<table border=\"1\" class=\"dataframe\">\n",
       "  <thead>\n",
       "    <tr style=\"text-align: right;\">\n",
       "      <th></th>\n",
       "      <th>EDU_1</th>\n",
       "      <th>EDU_2</th>\n",
       "      <th>Relation</th>\n",
       "    </tr>\n",
       "  </thead>\n",
       "  <tbody>\n",
       "    <tr>\n",
       "      <th>count</th>\n",
       "      <td>11745</td>\n",
       "      <td>11748</td>\n",
       "      <td>11757</td>\n",
       "    </tr>\n",
       "    <tr>\n",
       "      <th>unique</th>\n",
       "      <td>11652</td>\n",
       "      <td>6384</td>\n",
       "      <td>18</td>\n",
       "    </tr>\n",
       "    <tr>\n",
       "      <th>top</th>\n",
       "      <td>[код]</td>\n",
       "      <td>Встать ровно,</td>\n",
       "      <td>joint_m</td>\n",
       "    </tr>\n",
       "    <tr>\n",
       "      <th>freq</th>\n",
       "      <td>9</td>\n",
       "      <td>23</td>\n",
       "      <td>2505</td>\n",
       "    </tr>\n",
       "  </tbody>\n",
       "</table>\n",
       "</div>"
      ],
      "text/plain": [
       "        EDU_1          EDU_2 Relation\n",
       "count   11745          11748    11757\n",
       "unique  11652           6384       18\n",
       "top     [код]  Встать ровно,  joint_m\n",
       "freq        9             23     2505"
      ]
     },
     "execution_count": 10,
     "metadata": {},
     "output_type": "execute_result"
    }
   ],
   "source": [
    "df.describe()"
   ]
  },
  {
   "cell_type": "code",
   "execution_count": 11,
   "metadata": {},
   "outputs": [
    {
     "name": "stdout",
     "output_type": "stream",
     "text": [
      "<class 'pandas.core.frame.DataFrame'>\n",
      "RangeIndex: 11757 entries, 0 to 11756\n",
      "Data columns (total 3 columns):\n",
      " #   Column    Non-Null Count  Dtype \n",
      "---  ------    --------------  ----- \n",
      " 0   EDU_1     11745 non-null  object\n",
      " 1   EDU_2     11748 non-null  object\n",
      " 2   Relation  11757 non-null  object\n",
      "dtypes: object(3)\n",
      "memory usage: 275.7+ KB\n"
     ]
    }
   ],
   "source": [
    "df.info()"
   ]
  },
  {
   "cell_type": "code",
   "execution_count": 12,
   "metadata": {},
   "outputs": [
    {
     "data": {
      "text/plain": [
       "['cause_r',\n",
       " 'preparation_r',\n",
       " 'evaluation_r',\n",
       " 'contrast_m',\n",
       " 'elaboration_r',\n",
       " 'joint_m',\n",
       " 'background_r',\n",
       " 'purpose_r',\n",
       " 'sequence_m',\n",
       " 'comparison_m',\n",
       " 'solutionhood_r',\n",
       " 'condition_r',\n",
       " 'same-unit_m',\n",
       " 'concession_r',\n",
       " 'attribution_r',\n",
       " 'evidence_r',\n",
       " 'restatement_m',\n",
       " 'antithesis_r']"
      ]
     },
     "execution_count": 12,
     "metadata": {},
     "output_type": "execute_result"
    }
   ],
   "source": [
    "list(df['Relation'].unique())"
   ]
  },
  {
   "cell_type": "code",
   "execution_count": 13,
   "metadata": {},
   "outputs": [
    {
     "data": {
      "text/plain": [
       "18"
      ]
     },
     "execution_count": 13,
     "metadata": {},
     "output_type": "execute_result"
    }
   ],
   "source": [
    "len(list(df['Relation'].unique()))"
   ]
  },
  {
   "cell_type": "code",
   "execution_count": 14,
   "metadata": {},
   "outputs": [
    {
     "data": {
      "text/html": [
       "<div>\n",
       "<style scoped>\n",
       "    .dataframe tbody tr th:only-of-type {\n",
       "        vertical-align: middle;\n",
       "    }\n",
       "\n",
       "    .dataframe tbody tr th {\n",
       "        vertical-align: top;\n",
       "    }\n",
       "\n",
       "    .dataframe thead th {\n",
       "        text-align: right;\n",
       "    }\n",
       "</style>\n",
       "<table border=\"1\" class=\"dataframe\">\n",
       "  <thead>\n",
       "    <tr style=\"text-align: right;\">\n",
       "      <th></th>\n",
       "      <th>Number of EDUs</th>\n",
       "      <th>Percentage</th>\n",
       "    </tr>\n",
       "    <tr>\n",
       "      <th>Relation</th>\n",
       "      <th></th>\n",
       "      <th></th>\n",
       "    </tr>\n",
       "  </thead>\n",
       "  <tbody>\n",
       "    <tr>\n",
       "      <th>joint_m</th>\n",
       "      <td>2505</td>\n",
       "      <td>21.31 %</td>\n",
       "    </tr>\n",
       "    <tr>\n",
       "      <th>elaboration_r</th>\n",
       "      <td>2270</td>\n",
       "      <td>19.31 %</td>\n",
       "    </tr>\n",
       "    <tr>\n",
       "      <th>contrast_m</th>\n",
       "      <td>1183</td>\n",
       "      <td>10.06 %</td>\n",
       "    </tr>\n",
       "    <tr>\n",
       "      <th>cause_r</th>\n",
       "      <td>1016</td>\n",
       "      <td>8.64 %</td>\n",
       "    </tr>\n",
       "    <tr>\n",
       "      <th>evaluation_r</th>\n",
       "      <td>896</td>\n",
       "      <td>7.62 %</td>\n",
       "    </tr>\n",
       "    <tr>\n",
       "      <th>condition_r</th>\n",
       "      <td>745</td>\n",
       "      <td>6.34 %</td>\n",
       "    </tr>\n",
       "    <tr>\n",
       "      <th>sequence_m</th>\n",
       "      <td>647</td>\n",
       "      <td>5.5 %</td>\n",
       "    </tr>\n",
       "    <tr>\n",
       "      <th>preparation_r</th>\n",
       "      <td>581</td>\n",
       "      <td>4.94 %</td>\n",
       "    </tr>\n",
       "    <tr>\n",
       "      <th>purpose_r</th>\n",
       "      <td>371</td>\n",
       "      <td>3.16 %</td>\n",
       "    </tr>\n",
       "    <tr>\n",
       "      <th>same-unit_m</th>\n",
       "      <td>302</td>\n",
       "      <td>2.57 %</td>\n",
       "    </tr>\n",
       "    <tr>\n",
       "      <th>background_r</th>\n",
       "      <td>293</td>\n",
       "      <td>2.49 %</td>\n",
       "    </tr>\n",
       "    <tr>\n",
       "      <th>solutionhood_r</th>\n",
       "      <td>253</td>\n",
       "      <td>2.15 %</td>\n",
       "    </tr>\n",
       "    <tr>\n",
       "      <th>evidence_r</th>\n",
       "      <td>212</td>\n",
       "      <td>1.8 %</td>\n",
       "    </tr>\n",
       "    <tr>\n",
       "      <th>comparison_m</th>\n",
       "      <td>184</td>\n",
       "      <td>1.57 %</td>\n",
       "    </tr>\n",
       "    <tr>\n",
       "      <th>attribution_r</th>\n",
       "      <td>138</td>\n",
       "      <td>1.17 %</td>\n",
       "    </tr>\n",
       "    <tr>\n",
       "      <th>concession_r</th>\n",
       "      <td>89</td>\n",
       "      <td>0.76 %</td>\n",
       "    </tr>\n",
       "    <tr>\n",
       "      <th>restatement_m</th>\n",
       "      <td>67</td>\n",
       "      <td>0.57 %</td>\n",
       "    </tr>\n",
       "    <tr>\n",
       "      <th>antithesis_r</th>\n",
       "      <td>5</td>\n",
       "      <td>0.04 %</td>\n",
       "    </tr>\n",
       "  </tbody>\n",
       "</table>\n",
       "</div>"
      ],
      "text/plain": [
       "                Number of EDUs Percentage\n",
       "Relation                                 \n",
       "joint_m                   2505    21.31 %\n",
       "elaboration_r             2270    19.31 %\n",
       "contrast_m                1183    10.06 %\n",
       "cause_r                   1016     8.64 %\n",
       "evaluation_r               896     7.62 %\n",
       "condition_r                745     6.34 %\n",
       "sequence_m                 647      5.5 %\n",
       "preparation_r              581     4.94 %\n",
       "purpose_r                  371     3.16 %\n",
       "same-unit_m                302     2.57 %\n",
       "background_r               293     2.49 %\n",
       "solutionhood_r             253     2.15 %\n",
       "evidence_r                 212      1.8 %\n",
       "comparison_m               184     1.57 %\n",
       "attribution_r              138     1.17 %\n",
       "concession_r                89     0.76 %\n",
       "restatement_m               67     0.57 %\n",
       "antithesis_r                 5     0.04 %"
      ]
     },
     "execution_count": 14,
     "metadata": {},
     "output_type": "execute_result"
    }
   ],
   "source": [
    "df_table = df['Relation'].value_counts().rename_axis('Relation').to_frame('Number of EDUs').astype('int32')\n",
    "\n",
    "df_table['Percentage'] = (df_table['Number of EDUs'] / sum(df_table['Number of EDUs']) * 100)\n",
    "df_table['Percentage'] = df_table['Percentage'].round(2).astype(str) + ' %'\n",
    "\n",
    "df_table"
   ]
  },
  {
   "cell_type": "code",
   "execution_count": 15,
   "metadata": {},
   "outputs": [
    {
     "data": {
      "text/plain": [
       "<matplotlib.axes._subplots.AxesSubplot at 0x11706dd50>"
      ]
     },
     "execution_count": 15,
     "metadata": {},
     "output_type": "execute_result"
    },
    {
     "data": {
      "image/png": "[encoded data removed]",
      "text/plain": [
       "<Figure size 864x864 with 1 Axes>"
      ]
     },
     "metadata": {},
     "output_type": "display_data"
    }
   ],
   "source": [
    "df['Relation'].value_counts().plot(kind='pie')"
   ]
  },
  {
   "cell_type": "code",
   "execution_count": 16,
   "metadata": {},
   "outputs": [
    {
     "data": {
      "text/plain": [
       "<matplotlib.axes._subplots.AxesSubplot at 0x11748d910>"
      ]
     },
     "execution_count": 16,
     "metadata": {},
     "output_type": "execute_result"
    },
    {
     "data": {
      "image/png": "[encoded data removed]",
      "text/plain": [
       "<Figure size 864x864 with 1 Axes>"
      ]
     },
     "metadata": {},
     "output_type": "display_data"
    }
   ],
   "source": [
    "df['Relation'].value_counts().plot(kind='barh')"
   ]
  },
  {
   "cell_type": "code",
   "execution_count": 17,
   "metadata": {},
   "outputs": [
    {
     "data": {
      "text/plain": [
       "0       18.000\n",
       "1       12.000\n",
       "2        5.000\n",
       "3        4.000\n",
       "4        3.000\n",
       "         ...  \n",
       "11752    6.000\n",
       "11753    7.000\n",
       "11754   12.000\n",
       "11755    7.000\n",
       "11756   10.000\n",
       "Name: EDU_1_count, Length: 11757, dtype: float64"
      ]
     },
     "execution_count": 17,
     "metadata": {},
     "output_type": "execute_result"
    }
   ],
   "source": [
    "df['EDU_1_count'] = df['EDU_1'].str.findall(r'(\\w+)').str.len()\n",
    "df['EDU_1_count'] = df['EDU_1_count'].dropna().astype('int32')\n",
    "df['EDU_1_count']"
   ]
  },
  {
   "cell_type": "code",
   "execution_count": 18,
   "metadata": {
    "scrolled": true
   },
   "outputs": [
    {
     "data": {
      "text/plain": [
       "0       12.000\n",
       "1        3.000\n",
       "2       12.000\n",
       "3       12.000\n",
       "4        3.000\n",
       "         ...  \n",
       "11752    3.000\n",
       "11753    4.000\n",
       "11754    7.000\n",
       "11755   12.000\n",
       "11756   12.000\n",
       "Name: EDU_2_count, Length: 11757, dtype: float64"
      ]
     },
     "execution_count": 18,
     "metadata": {},
     "output_type": "execute_result"
    }
   ],
   "source": [
    "df['EDU_2_count'] = df['EDU_2'].str.findall(r'(\\w+)').str.len()\n",
    "df['EDU_2_count'] = df['EDU_2_count'].dropna().astype('int32')\n",
    "df['EDU_2_count']"
   ]
  },
  {
   "cell_type": "code",
   "execution_count": 19,
   "metadata": {},
   "outputs": [
    {
     "data": {
      "text/plain": [
       "81653"
      ]
     },
     "execution_count": 19,
     "metadata": {},
     "output_type": "execute_result"
    }
   ],
   "source": [
    "EDU_1_count = df['EDU_1_count'].dropna().sum().astype('int32')\n",
    "EDU_1_count"
   ]
  },
  {
   "cell_type": "code",
   "execution_count": 20,
   "metadata": {},
   "outputs": [
    {
     "data": {
      "text/plain": [
       "1673"
      ]
     },
     "execution_count": 20,
     "metadata": {},
     "output_type": "execute_result"
    }
   ],
   "source": [
    "EDU_1_count_unique = df['EDU_1_count'].dropna().unique().sum().astype('int32')\n",
    "EDU_1_count_unique"
   ]
  },
  {
   "cell_type": "code",
   "execution_count": 21,
   "metadata": {},
   "outputs": [
    {
     "data": {
      "text/plain": [
       "85787"
      ]
     },
     "execution_count": 21,
     "metadata": {},
     "output_type": "execute_result"
    }
   ],
   "source": [
    "EDU_2_count = df['EDU_2_count'].dropna().sum().astype('int32')\n",
    "EDU_2_count"
   ]
  },
  {
   "cell_type": "code",
   "execution_count": 22,
   "metadata": {},
   "outputs": [
    {
     "data": {
      "text/plain": [
       "723"
      ]
     },
     "execution_count": 22,
     "metadata": {},
     "output_type": "execute_result"
    }
   ],
   "source": [
    "EDU_2_count_unique= df['EDU_2_count'].dropna().unique().sum().astype('int32')\n",
    "EDU_2_count_unique"
   ]
  },
  {
   "cell_type": "code",
   "execution_count": 23,
   "metadata": {},
   "outputs": [
    {
     "data": {
      "text/plain": [
       "'Total words amount: 167440'"
      ]
     },
     "execution_count": 23,
     "metadata": {},
     "output_type": "execute_result"
    }
   ],
   "source": [
    "word_count = EDU_1_count + EDU_2_count\n",
    "f\"Total words amount: {word_count}\""
   ]
  },
  {
   "cell_type": "code",
   "execution_count": 24,
   "metadata": {},
   "outputs": [
    {
     "data": {
      "text/plain": [
       "'Total unique words amount: 2396'"
      ]
     },
     "execution_count": 24,
     "metadata": {},
     "output_type": "execute_result"
    }
   ],
   "source": [
    "word_count_unique = EDU_1_count_unique + EDU_2_count_unique\n",
    "f\"Total unique words amount: {word_count_unique}\""
   ]
  },
  {
   "cell_type": "code",
   "execution_count": 25,
   "metadata": {},
   "outputs": [
    {
     "data": {
      "text/html": [
       "<div>\n",
       "<style scoped>\n",
       "    .dataframe tbody tr th:only-of-type {\n",
       "        vertical-align: middle;\n",
       "    }\n",
       "\n",
       "    .dataframe tbody tr th {\n",
       "        vertical-align: top;\n",
       "    }\n",
       "\n",
       "    .dataframe thead th {\n",
       "        text-align: right;\n",
       "    }\n",
       "</style>\n",
       "<table border=\"1\" class=\"dataframe\">\n",
       "  <thead>\n",
       "    <tr style=\"text-align: right;\">\n",
       "      <th></th>\n",
       "      <th>0</th>\n",
       "    </tr>\n",
       "  </thead>\n",
       "  <tbody>\n",
       "    <tr>\n",
       "      <th>0</th>\n",
       "      <td>После поездки в 2017 на Бали я вспомнил, что о...</td>\n",
       "    </tr>\n",
       "    <tr>\n",
       "      <th>1</th>\n",
       "      <td>поэтому в 2018 полетели снова в теплые края, н...</td>\n",
       "    </tr>\n",
       "    <tr>\n",
       "      <th>2</th>\n",
       "      <td>(только сейчас руки дошли написать!).поэтому в...</td>\n",
       "    </tr>\n",
       "    <tr>\n",
       "      <th>3</th>\n",
       "      <td>В общем, прекрасное место!поэтому в 2018 полет...</td>\n",
       "    </tr>\n",
       "    <tr>\n",
       "      <th>4</th>\n",
       "      <td>Остров не маленький,есть, что посмотреть.</td>\n",
       "    </tr>\n",
       "    <tr>\n",
       "      <th>...</th>\n",
       "      <td>...</td>\n",
       "    </tr>\n",
       "    <tr>\n",
       "      <th>11752</th>\n",
       "      <td>и примерно такой же будет всегда.она такая сейчас</td>\n",
       "    </tr>\n",
       "    <tr>\n",
       "      <th>11753</th>\n",
       "      <td>Надеяться уже в принципе не на что.Это неотъем...</td>\n",
       "    </tr>\n",
       "    <tr>\n",
       "      <th>11754</th>\n",
       "      <td>И не то чтобы у меня было для вас что-то получ...</td>\n",
       "    </tr>\n",
       "    <tr>\n",
       "      <th>11755</th>\n",
       "      <td>или что я могу сказать, где будущее.И не то чт...</td>\n",
       "    </tr>\n",
       "    <tr>\n",
       "      <th>11756</th>\n",
       "      <td>Все что я могу сказать что оно точно не здесь....</td>\n",
       "    </tr>\n",
       "  </tbody>\n",
       "</table>\n",
       "<p>11757 rows × 1 columns</p>\n",
       "</div>"
      ],
      "text/plain": [
       "                                                       0\n",
       "0      После поездки в 2017 на Бали я вспомнил, что о...\n",
       "1      поэтому в 2018 полетели снова в теплые края, н...\n",
       "2      (только сейчас руки дошли написать!).поэтому в...\n",
       "3      В общем, прекрасное место!поэтому в 2018 полет...\n",
       "4              Остров не маленький,есть, что посмотреть.\n",
       "...                                                  ...\n",
       "11752  и примерно такой же будет всегда.она такая сейчас\n",
       "11753  Надеяться уже в принципе не на что.Это неотъем...\n",
       "11754  И не то чтобы у меня было для вас что-то получ...\n",
       "11755  или что я могу сказать, где будущее.И не то чт...\n",
       "11756  Все что я могу сказать что оно точно не здесь....\n",
       "\n",
       "[11757 rows x 1 columns]"
      ]
     },
     "execution_count": 25,
     "metadata": {},
     "output_type": "execute_result"
    }
   ],
   "source": [
    "df_edus = df['EDU_1'] + df['EDU_2']\n",
    "df_edus = df_edus.to_frame()\n",
    "df_edus"
   ]
  }
 ],
 "metadata": {
  "kernelspec": {
   "display_name": "Python 3",
   "language": "python",
   "name": "python3"
  },
  "language_info": {
   "codemirror_mode": {
    "name": "ipython",
    "version": 3
   },
   "file_extension": ".py",
   "mimetype": "text/x-python",
   "name": "python",
   "nbconvert_exporter": "python",
   "pygments_lexer": "ipython3",
   "version": "3.7.7"
  }
 },
 "nbformat": 4,
 "nbformat_minor": 4
}
