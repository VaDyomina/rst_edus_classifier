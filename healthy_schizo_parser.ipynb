{
 "cells": [
  {
   "cell_type": "code",
   "execution_count": 1,
   "metadata": {},
   "outputs": [
    {
     "name": "stdout",
     "output_type": "stream",
     "text": [
      "Requirement already satisfied: tqdm in /usr/local/lib/python3.7/site-packages (4.46.0)\n",
      "Requirement already satisfied: pandas in /usr/local/lib/python3.7/site-packages (1.0.3)\n",
      "Requirement already satisfied: matplotlib in /usr/local/lib/python3.7/site-packages (3.2.1)\n",
      "Requirement already satisfied: python-dateutil>=2.6.1 in /usr/local/lib/python3.7/site-packages (from pandas) (2.8.1)\n",
      "Requirement already satisfied: numpy>=1.13.3 in /usr/local/lib/python3.7/site-packages (from pandas) (1.18.4)\n",
      "Requirement already satisfied: pytz>=2017.2 in /usr/local/lib/python3.7/site-packages (from pandas) (2020.1)\n",
      "Requirement already satisfied: kiwisolver>=1.0.1 in /usr/local/lib/python3.7/site-packages (from matplotlib) (1.2.0)\n",
      "Requirement already satisfied: cycler>=0.10 in /usr/local/lib/python3.7/site-packages (from matplotlib) (0.10.0)\n",
      "Requirement already satisfied: pyparsing!=2.0.4,!=2.1.2,!=2.1.6,>=2.0.1 in /usr/local/lib/python3.7/site-packages (from matplotlib) (2.4.7)\n",
      "Requirement already satisfied: six>=1.5 in /usr/local/lib/python3.7/site-packages (from python-dateutil>=2.6.1->pandas) (1.14.0)\n"
     ]
    }
   ],
   "source": [
    "from sys import executable\n",
    "!{executable} -m pip install tqdm pandas matplotlib"
   ]
  },
  {
   "cell_type": "code",
   "execution_count": 2,
   "metadata": {},
   "outputs": [
    {
     "name": "stderr",
     "output_type": "stream",
     "text": [
      "/usr/local/lib/python3.7/site-packages/pandas/compat/__init__.py:117: UserWarning: Could not import the lzma module. Your installed Python is incomplete. Attempting to use lzma compression will result in a RuntimeError.\n",
      "  warnings.warn(msg)\n"
     ]
    }
   ],
   "source": [
    "from os import listdir\n",
    "from os.path import isfile, join\n",
    "import pandas as pd\n",
    "from tqdm.notebook import tqdm"
   ]
  },
  {
   "cell_type": "markdown",
   "metadata": {},
   "source": [
    "### Preprocess files with https://github.com/amir-zeldes/rst2dep"
   ]
  },
  {
   "cell_type": "code",
   "execution_count": 3,
   "metadata": {},
   "outputs": [
    {
     "data": {
      "application/vnd.jupyter.widget-view+json": {
       "model_id": "eb39a1e46520496eb011a5486d811aa8",
       "version_major": 2,
       "version_minor": 0
      },
      "text/plain": [
       "HBox(children=(FloatProgress(value=0.0, max=10.0), HTML(value='')))"
      ]
     },
     "metadata": {},
     "output_type": "display_data"
    },
    {
     "name": "stdout",
     "output_type": "stream",
     "text": [
      "\n"
     ]
    }
   ],
   "source": [
    "# Processing rs3 files with Zeldes's parser\n",
    "base_dir = \"./\"\n",
    "rs3_dir = base_dir + \"data/schizo/healthy/rs3/\"\n",
    "\n",
    "rs3_files = [rs3_dir + file for file in listdir(rs3_dir) if file.endswith('.rs3')]\n",
    "\n",
    "for file_name in tqdm(rs3_files):\n",
    "    !./rst2dep/rst2dep.py {file_name}"
   ]
  },
  {
   "cell_type": "code",
   "execution_count": 4,
   "metadata": {},
   "outputs": [
    {
     "data": {
      "text/plain": [
       "'We have a 0.00% data loss with this parser'"
      ]
     },
     "execution_count": 4,
     "metadata": {},
     "output_type": "execute_result"
    }
   ],
   "source": [
    "# Counting lost files \n",
    "rsd_dir = base_dir + \"data/schizo/healthy/rsd/\"\n",
    "rsd_files = [file for file in listdir(rsd_dir) if file.endswith('.rsd')]\n",
    "\n",
    "f\"We have a {100 - len(rsd_files) / len(rs3_files) * 100 :.2f}% data loss with this parser\""
   ]
  },
  {
   "cell_type": "markdown",
   "metadata": {},
   "source": [
    "### Parse preprocessed files and process them to csv"
   ]
  },
  {
   "cell_type": "code",
   "execution_count": 5,
   "metadata": {},
   "outputs": [],
   "source": [
    "import re\n",
    "\n",
    "URL_REGEXP = r'\\w+:\\/{2}[\\d\\w-]+(\\.[\\d\\w-]+)*(?:(?:\\/[^\\s/]*))*'\n",
    "\n",
    "def process_string(string, file_name):\n",
    "    '''\n",
    "    Function for deleting EDUs containing IMG,\n",
    "    changes URLs to \"здесь\",\n",
    "    changes \"minus\" to \"longdash\"\n",
    "    '''\n",
    "    string = string.replace('IMG', '')\n",
    "    string = re.sub(URL_REGEXP, 'здесь', string)\n",
    "    string = re.sub(r'[0-9]+$', '', string)\n",
    "\n",
    "    if string.startswith(\"-\"):\n",
    "        string = u\"—\" + string[1:]\n",
    "\n",
    "    return string.strip()"
   ]
  },
  {
   "cell_type": "code",
   "execution_count": 6,
   "metadata": {},
   "outputs": [
    {
     "data": {
      "application/vnd.jupyter.widget-view+json": {
       "model_id": "ad0e0965eb6343cfa55f7f42ed391457",
       "version_major": 2,
       "version_minor": 0
      },
      "text/plain": [
       "HBox(children=(FloatProgress(value=0.0, max=10.0), HTML(value='')))"
      ]
     },
     "metadata": {},
     "output_type": "display_data"
    },
    {
     "name": "stdout",
     "output_type": "stream",
     "text": [
      "\n"
     ]
    }
   ],
   "source": [
    "import csv\n",
    "from io import StringIO\n",
    "\n",
    "processed_dir = base_dir + 'data/schizo/healthy/processed/'\n",
    "\n",
    "for file_name in tqdm(rsd_files): \n",
    "    # headers\n",
    "    result = ['EDU_1;EDU_2;Relation'] \n",
    "\n",
    "    # opens rsd-file\n",
    "    with open(rsd_dir + file_name) as file: \n",
    "        csv_str = file.read() + '\\n' \n",
    "        # We need to delete the ' and \" characters from the csv\n",
    "        escaped_csv_str = csv_str.replace(\"\\\"\", '').replace(\"\\'\", '').replace(\";\", '')\n",
    "\n",
    "    # reading csv to df\n",
    "    df = pd.read_csv(StringIO(escaped_csv_str),\n",
    "                     sep=\"\\t\",\n",
    "                     encoding='utf-8',\n",
    "                     names=[\"self_id\", \"snippet\", \"q\", \"w\", \"e\", \"feats\", \"dep_parent\", \"dep_rel\", \"r\", \"t\"])\n",
    "    \n",
    "    # deleting ROOTs (the highest groups of EDUs in the hierarchy) and EDUs which are IMG files\n",
    "    for index, row in df.iterrows():\n",
    "        if row['dep_rel'].strip() == 'ROOT' or row['snippet'].strip() == \"IMG\":\n",
    "            continue\n",
    "            \n",
    "        # searching parent for EDU1\n",
    "        parent_snippet_vals = df[df['self_id'] == row['dep_parent']].values\n",
    "\n",
    "        if len(parent_snippet_vals) != 0:\n",
    "            snippet_text = process_string(row['snippet'], file_name)\n",
    "            parent_text = process_string(parent_snippet_vals[0][1], file_name)\n",
    "\n",
    "            result.append(';'.join([snippet_text,\n",
    "                                   parent_text,\n",
    "                                   row['dep_rel']]))\n",
    "            \n",
    "        # writing result into csv\n",
    "        with open(processed_dir + file_name[:-4] + '.csv', 'w', encoding='utf-8') as fout:\n",
    "            fout.write('\\n'.join(result))"
   ]
  },
  {
   "cell_type": "markdown",
   "metadata": {},
   "source": [
    "### Merging CSV files into DataFrame"
   ]
  },
  {
   "cell_type": "code",
   "execution_count": 7,
   "metadata": {},
   "outputs": [],
   "source": [
    "import glob"
   ]
  },
  {
   "cell_type": "code",
   "execution_count": 8,
   "metadata": {},
   "outputs": [
    {
     "data": {
      "text/html": [
       "<div>\n",
       "<style scoped>\n",
       "    .dataframe tbody tr th:only-of-type {\n",
       "        vertical-align: middle;\n",
       "    }\n",
       "\n",
       "    .dataframe tbody tr th {\n",
       "        vertical-align: top;\n",
       "    }\n",
       "\n",
       "    .dataframe thead th {\n",
       "        text-align: right;\n",
       "    }\n",
       "</style>\n",
       "<table border=\"1\" class=\"dataframe\">\n",
       "  <thead>\n",
       "    <tr style=\"text-align: right;\">\n",
       "      <th></th>\n",
       "      <th>EDU_1</th>\n",
       "      <th>EDU_2</th>\n",
       "      <th>Relation</th>\n",
       "    </tr>\n",
       "  </thead>\n",
       "  <tbody>\n",
       "    <tr>\n",
       "      <th>0</th>\n",
       "      <td>ну я б сказала</td>\n",
       "      <td>не очень правдоподобная история</td>\n",
       "      <td>evaluation_r</td>\n",
       "    </tr>\n",
       "    <tr>\n",
       "      <th>1</th>\n",
       "      <td>не очень правдоподобная история</td>\n",
       "      <td>человек собирает груши</td>\n",
       "      <td>preparation_r</td>\n",
       "    </tr>\n",
       "    <tr>\n",
       "      <th>2</th>\n",
       "      <td>потому что этот человек</td>\n",
       "      <td>не очень правдоподобная история</td>\n",
       "      <td>cause_r</td>\n",
       "    </tr>\n",
       "    <tr>\n",
       "      <th>3</th>\n",
       "      <td>убирающий собирающий груши</td>\n",
       "      <td>потому что этот человек</td>\n",
       "      <td>elaboration_r</td>\n",
       "    </tr>\n",
       "    <tr>\n",
       "      <th>4</th>\n",
       "      <td>наверняка он все-таки звук слышит хорошо</td>\n",
       "      <td>потому что этот человек</td>\n",
       "      <td>joint_m</td>\n",
       "    </tr>\n",
       "    <tr>\n",
       "      <th>...</th>\n",
       "      <td>...</td>\n",
       "      <td>...</td>\n",
       "      <td>...</td>\n",
       "    </tr>\n",
       "    <tr>\n",
       "      <th>543</th>\n",
       "      <td>ему принесли</td>\n",
       "      <td>но это самое а шляпа-то у него улетела тоже</td>\n",
       "      <td>sequence_m</td>\n",
       "    </tr>\n",
       "    <tr>\n",
       "      <th>545</th>\n",
       "      <td>это то есть мальчик такой ну благодарный</td>\n",
       "      <td>вот поехал дальше</td>\n",
       "      <td>antithesis_r</td>\n",
       "    </tr>\n",
       "    <tr>\n",
       "      <th>546</th>\n",
       "      <td>будем говорить да</td>\n",
       "      <td>это то есть мальчик такой ну благодарный</td>\n",
       "      <td>evaluation_r</td>\n",
       "    </tr>\n",
       "    <tr>\n",
       "      <th>547</th>\n",
       "      <td>вот ну и в общем повёз это всё домой помощник</td>\n",
       "      <td>вот поехал дальше</td>\n",
       "      <td>sequence_m</td>\n",
       "    </tr>\n",
       "    <tr>\n",
       "      <th>548</th>\n",
       "      <td>ну вот так вот у меня</td>\n",
       "      <td>он собирал</td>\n",
       "      <td>evaluation_r</td>\n",
       "    </tr>\n",
       "  </tbody>\n",
       "</table>\n",
       "<p>543 rows × 3 columns</p>\n",
       "</div>"
      ],
      "text/plain": [
       "                                             EDU_1  \\\n",
       "0                                   ну я б сказала   \n",
       "1                  не очень правдоподобная история   \n",
       "2                          потому что этот человек   \n",
       "3                       убирающий собирающий груши   \n",
       "4         наверняка он все-таки звук слышит хорошо   \n",
       "..                                             ...   \n",
       "543                                   ему принесли   \n",
       "545       это то есть мальчик такой ну благодарный   \n",
       "546                              будем говорить да   \n",
       "547  вот ну и в общем повёз это всё домой помощник   \n",
       "548                          ну вот так вот у меня   \n",
       "\n",
       "                                           EDU_2       Relation  \n",
       "0                не очень правдоподобная история   evaluation_r  \n",
       "1                         человек собирает груши  preparation_r  \n",
       "2                не очень правдоподобная история        cause_r  \n",
       "3                        потому что этот человек  elaboration_r  \n",
       "4                        потому что этот человек        joint_m  \n",
       "..                                           ...            ...  \n",
       "543  но это самое а шляпа-то у него улетела тоже     sequence_m  \n",
       "545                            вот поехал дальше   antithesis_r  \n",
       "546     это то есть мальчик такой ну благодарный   evaluation_r  \n",
       "547                            вот поехал дальше     sequence_m  \n",
       "548                                   он собирал   evaluation_r  \n",
       "\n",
       "[543 rows x 3 columns]"
      ]
     },
     "execution_count": 8,
     "metadata": {},
     "output_type": "execute_result"
    }
   ],
   "source": [
    "all_files = glob.glob(processed_dir + \"/*.csv\")\n",
    "df_list = [pd.read_csv(filename, index_col=None, header=0, sep=';') for filename in all_files]\n",
    "\n",
    "df = pd.concat(df_list, axis=0, ignore_index=True)\n",
    "df = df[~df.Relation.isin(['circumstance_r', 'result_r'])]\n",
    "\n",
    "df.dropna()"
   ]
  },
  {
   "cell_type": "markdown",
   "metadata": {},
   "source": [
    "### Analytics"
   ]
  },
  {
   "cell_type": "code",
   "execution_count": 9,
   "metadata": {},
   "outputs": [],
   "source": [
    "import matplotlib.pyplot as plt\n",
    "\n",
    "plt.style.use('ggplot')\n",
    "plt.rcParams['figure.figsize'] = (12, 12)\n",
    "plt.rcParams['font.size'] = 12\n",
    "\n",
    "pd.options.display.float_format = '{:,.3f}'.format"
   ]
  },
  {
   "cell_type": "code",
   "execution_count": 10,
   "metadata": {},
   "outputs": [
    {
     "data": {
      "text/html": [
       "<div>\n",
       "<style scoped>\n",
       "    .dataframe tbody tr th:only-of-type {\n",
       "        vertical-align: middle;\n",
       "    }\n",
       "\n",
       "    .dataframe tbody tr th {\n",
       "        vertical-align: top;\n",
       "    }\n",
       "\n",
       "    .dataframe thead th {\n",
       "        text-align: right;\n",
       "    }\n",
       "</style>\n",
       "<table border=\"1\" class=\"dataframe\">\n",
       "  <thead>\n",
       "    <tr style=\"text-align: right;\">\n",
       "      <th></th>\n",
       "      <th>EDU_1</th>\n",
       "      <th>EDU_2</th>\n",
       "      <th>Relation</th>\n",
       "    </tr>\n",
       "  </thead>\n",
       "  <tbody>\n",
       "    <tr>\n",
       "      <th>count</th>\n",
       "      <td>543</td>\n",
       "      <td>543</td>\n",
       "      <td>543</td>\n",
       "    </tr>\n",
       "    <tr>\n",
       "      <th>unique</th>\n",
       "      <td>534</td>\n",
       "      <td>221</td>\n",
       "      <td>16</td>\n",
       "    </tr>\n",
       "    <tr>\n",
       "      <th>top</th>\n",
       "      <td>наехал на камень</td>\n",
       "      <td>мужчина с усами собирает груши</td>\n",
       "      <td>sequence_m</td>\n",
       "    </tr>\n",
       "    <tr>\n",
       "      <th>freq</th>\n",
       "      <td>2</td>\n",
       "      <td>15</td>\n",
       "      <td>158</td>\n",
       "    </tr>\n",
       "  </tbody>\n",
       "</table>\n",
       "</div>"
      ],
      "text/plain": [
       "                   EDU_1                           EDU_2    Relation\n",
       "count                543                             543         543\n",
       "unique               534                             221          16\n",
       "top     наехал на камень  мужчина с усами собирает груши  sequence_m\n",
       "freq                   2                              15         158"
      ]
     },
     "execution_count": 10,
     "metadata": {},
     "output_type": "execute_result"
    }
   ],
   "source": [
    "df.describe()"
   ]
  },
  {
   "cell_type": "code",
   "execution_count": 11,
   "metadata": {},
   "outputs": [
    {
     "name": "stdout",
     "output_type": "stream",
     "text": [
      "<class 'pandas.core.frame.DataFrame'>\n",
      "Int64Index: 543 entries, 0 to 548\n",
      "Data columns (total 3 columns):\n",
      " #   Column    Non-Null Count  Dtype \n",
      "---  ------    --------------  ----- \n",
      " 0   EDU_1     543 non-null    object\n",
      " 1   EDU_2     543 non-null    object\n",
      " 2   Relation  543 non-null    object\n",
      "dtypes: object(3)\n",
      "memory usage: 17.0+ KB\n"
     ]
    }
   ],
   "source": [
    "df.info()"
   ]
  },
  {
   "cell_type": "code",
   "execution_count": 12,
   "metadata": {},
   "outputs": [
    {
     "data": {
      "text/plain": [
       "['evaluation_r',\n",
       " 'preparation_r',\n",
       " 'cause_r',\n",
       " 'elaboration_r',\n",
       " 'joint_m',\n",
       " 'restatement_r',\n",
       " 'sequence_m',\n",
       " 'contrast_m',\n",
       " 'evidence_r',\n",
       " 'concession_r',\n",
       " 'antithesis_r',\n",
       " 'background_r',\n",
       " 'purpose_r',\n",
       " 'condition_r',\n",
       " 'solutionhood_r',\n",
       " 'restatement_m']"
      ]
     },
     "execution_count": 12,
     "metadata": {},
     "output_type": "execute_result"
    }
   ],
   "source": [
    "list(df['Relation'].unique())"
   ]
  },
  {
   "cell_type": "code",
   "execution_count": 13,
   "metadata": {},
   "outputs": [
    {
     "data": {
      "text/plain": [
       "16"
      ]
     },
     "execution_count": 13,
     "metadata": {},
     "output_type": "execute_result"
    }
   ],
   "source": [
    "len(list(df['Relation'].unique()))"
   ]
  },
  {
   "cell_type": "code",
   "execution_count": 14,
   "metadata": {},
   "outputs": [
    {
     "data": {
      "text/html": [
       "<div>\n",
       "<style scoped>\n",
       "    .dataframe tbody tr th:only-of-type {\n",
       "        vertical-align: middle;\n",
       "    }\n",
       "\n",
       "    .dataframe tbody tr th {\n",
       "        vertical-align: top;\n",
       "    }\n",
       "\n",
       "    .dataframe thead th {\n",
       "        text-align: right;\n",
       "    }\n",
       "</style>\n",
       "<table border=\"1\" class=\"dataframe\">\n",
       "  <thead>\n",
       "    <tr style=\"text-align: right;\">\n",
       "      <th></th>\n",
       "      <th>Number of EDUs</th>\n",
       "      <th>Percentage</th>\n",
       "    </tr>\n",
       "    <tr>\n",
       "      <th>Relation</th>\n",
       "      <th></th>\n",
       "      <th></th>\n",
       "    </tr>\n",
       "  </thead>\n",
       "  <tbody>\n",
       "    <tr>\n",
       "      <th>sequence_m</th>\n",
       "      <td>158</td>\n",
       "      <td>29.1 %</td>\n",
       "    </tr>\n",
       "    <tr>\n",
       "      <th>evaluation_r</th>\n",
       "      <td>85</td>\n",
       "      <td>15.65 %</td>\n",
       "    </tr>\n",
       "    <tr>\n",
       "      <th>cause_r</th>\n",
       "      <td>58</td>\n",
       "      <td>10.68 %</td>\n",
       "    </tr>\n",
       "    <tr>\n",
       "      <th>background_r</th>\n",
       "      <td>56</td>\n",
       "      <td>10.31 %</td>\n",
       "    </tr>\n",
       "    <tr>\n",
       "      <th>elaboration_r</th>\n",
       "      <td>42</td>\n",
       "      <td>7.73 %</td>\n",
       "    </tr>\n",
       "    <tr>\n",
       "      <th>joint_m</th>\n",
       "      <td>36</td>\n",
       "      <td>6.63 %</td>\n",
       "    </tr>\n",
       "    <tr>\n",
       "      <th>evidence_r</th>\n",
       "      <td>28</td>\n",
       "      <td>5.16 %</td>\n",
       "    </tr>\n",
       "    <tr>\n",
       "      <th>antithesis_r</th>\n",
       "      <td>21</td>\n",
       "      <td>3.87 %</td>\n",
       "    </tr>\n",
       "    <tr>\n",
       "      <th>restatement_r</th>\n",
       "      <td>16</td>\n",
       "      <td>2.95 %</td>\n",
       "    </tr>\n",
       "    <tr>\n",
       "      <th>concession_r</th>\n",
       "      <td>11</td>\n",
       "      <td>2.03 %</td>\n",
       "    </tr>\n",
       "    <tr>\n",
       "      <th>purpose_r</th>\n",
       "      <td>11</td>\n",
       "      <td>2.03 %</td>\n",
       "    </tr>\n",
       "    <tr>\n",
       "      <th>preparation_r</th>\n",
       "      <td>10</td>\n",
       "      <td>1.84 %</td>\n",
       "    </tr>\n",
       "    <tr>\n",
       "      <th>contrast_m</th>\n",
       "      <td>8</td>\n",
       "      <td>1.47 %</td>\n",
       "    </tr>\n",
       "    <tr>\n",
       "      <th>solutionhood_r</th>\n",
       "      <td>1</td>\n",
       "      <td>0.18 %</td>\n",
       "    </tr>\n",
       "    <tr>\n",
       "      <th>condition_r</th>\n",
       "      <td>1</td>\n",
       "      <td>0.18 %</td>\n",
       "    </tr>\n",
       "    <tr>\n",
       "      <th>restatement_m</th>\n",
       "      <td>1</td>\n",
       "      <td>0.18 %</td>\n",
       "    </tr>\n",
       "  </tbody>\n",
       "</table>\n",
       "</div>"
      ],
      "text/plain": [
       "                Number of EDUs Percentage\n",
       "Relation                                 \n",
       "sequence_m                 158     29.1 %\n",
       "evaluation_r                85    15.65 %\n",
       "cause_r                     58    10.68 %\n",
       "background_r                56    10.31 %\n",
       "elaboration_r               42     7.73 %\n",
       "joint_m                     36     6.63 %\n",
       "evidence_r                  28     5.16 %\n",
       "antithesis_r                21     3.87 %\n",
       "restatement_r               16     2.95 %\n",
       "concession_r                11     2.03 %\n",
       "purpose_r                   11     2.03 %\n",
       "preparation_r               10     1.84 %\n",
       "contrast_m                   8     1.47 %\n",
       "solutionhood_r               1     0.18 %\n",
       "condition_r                  1     0.18 %\n",
       "restatement_m                1     0.18 %"
      ]
     },
     "execution_count": 14,
     "metadata": {},
     "output_type": "execute_result"
    }
   ],
   "source": [
    "df_table = df['Relation'].value_counts().rename_axis('Relation').to_frame('Number of EDUs').astype('int32')\n",
    "\n",
    "df_table['Percentage'] = (df_table['Number of EDUs'] / sum(df_table['Number of EDUs']) * 100)\n",
    "df_table['Percentage'] = df_table['Percentage'].round(2).astype(str) + ' %'\n",
    "\n",
    "df_table"
   ]
  },
  {
   "cell_type": "code",
   "execution_count": 15,
   "metadata": {},
   "outputs": [
    {
     "data": {
      "text/plain": [
       "<matplotlib.axes._subplots.AxesSubplot at 0x1149251d0>"
      ]
     },
     "execution_count": 15,
     "metadata": {},
     "output_type": "execute_result"
    },
    {
     "data": {
      "image/png": "[encoded data removed]",
      "text/plain": [
       "<Figure size 864x864 with 1 Axes>"
      ]
     },
     "metadata": {},
     "output_type": "display_data"
    }
   ],
   "source": [
    "df['Relation'].value_counts().plot(kind='pie')"
   ]
  },
  {
   "cell_type": "code",
   "execution_count": 16,
   "metadata": {},
   "outputs": [
    {
     "data": {
      "text/plain": [
       "<matplotlib.axes._subplots.AxesSubplot at 0x114d57bd0>"
      ]
     },
     "execution_count": 16,
     "metadata": {},
     "output_type": "execute_result"
    },
    {
     "data": {
      "image/png": "[encoded data removed]",
      "text/plain": [
       "<Figure size 864x864 with 1 Axes>"
      ]
     },
     "metadata": {},
     "output_type": "display_data"
    }
   ],
   "source": [
    "df['Relation'].value_counts().plot(kind='barh')"
   ]
  },
  {
   "cell_type": "code",
   "execution_count": 17,
   "metadata": {},
   "outputs": [
    {
     "data": {
      "text/plain": [
       "0       4\n",
       "1       4\n",
       "2       4\n",
       "3       3\n",
       "4       7\n",
       "       ..\n",
       "543     2\n",
       "545     7\n",
       "546     3\n",
       "547    10\n",
       "548     6\n",
       "Name: EDU_1_count, Length: 543, dtype: int32"
      ]
     },
     "execution_count": 17,
     "metadata": {},
     "output_type": "execute_result"
    }
   ],
   "source": [
    "df['EDU_1_count'] = df['EDU_1'].str.findall(r'(\\w+)').str.len()\n",
    "df['EDU_1_count'] = df['EDU_1_count'].dropna().astype('int32')\n",
    "df['EDU_1_count']"
   ]
  },
  {
   "cell_type": "code",
   "execution_count": 18,
   "metadata": {
    "scrolled": true
   },
   "outputs": [
    {
     "data": {
      "text/plain": [
       "0       4\n",
       "1       3\n",
       "2       4\n",
       "3       4\n",
       "4       4\n",
       "       ..\n",
       "543    10\n",
       "545     3\n",
       "546     7\n",
       "547     3\n",
       "548     2\n",
       "Name: EDU_2_count, Length: 543, dtype: int32"
      ]
     },
     "execution_count": 18,
     "metadata": {},
     "output_type": "execute_result"
    }
   ],
   "source": [
    "df['EDU_2_count'] = df['EDU_2'].str.findall(r'(\\w+)').str.len()\n",
    "df['EDU_2_count'] = df['EDU_2_count'].dropna().astype('int32')\n",
    "df['EDU_2_count']"
   ]
  },
  {
   "cell_type": "code",
   "execution_count": 19,
   "metadata": {},
   "outputs": [
    {
     "data": {
      "text/plain": [
       "2506"
      ]
     },
     "execution_count": 19,
     "metadata": {},
     "output_type": "execute_result"
    }
   ],
   "source": [
    "EDU_1_count = df['EDU_1_count'].dropna().sum().astype('int32')\n",
    "EDU_1_count"
   ]
  },
  {
   "cell_type": "code",
   "execution_count": 20,
   "metadata": {},
   "outputs": [
    {
     "data": {
      "text/plain": [
       "120"
      ]
     },
     "execution_count": 20,
     "metadata": {},
     "output_type": "execute_result"
    }
   ],
   "source": [
    "EDU_1_count_unique = df['EDU_1_count'].dropna().unique().sum().astype('int32')\n",
    "EDU_1_count_unique"
   ]
  },
  {
   "cell_type": "code",
   "execution_count": 21,
   "metadata": {},
   "outputs": [
    {
     "data": {
      "text/plain": [
       "2735"
      ]
     },
     "execution_count": 21,
     "metadata": {},
     "output_type": "execute_result"
    }
   ],
   "source": [
    "EDU_2_count = df['EDU_2_count'].dropna().sum().astype('int32')\n",
    "EDU_2_count"
   ]
  },
  {
   "cell_type": "code",
   "execution_count": 22,
   "metadata": {},
   "outputs": [
    {
     "data": {
      "text/plain": [
       "120"
      ]
     },
     "execution_count": 22,
     "metadata": {},
     "output_type": "execute_result"
    }
   ],
   "source": [
    "EDU_2_count_unique= df['EDU_2_count'].dropna().unique().sum().astype('int32')\n",
    "EDU_2_count_unique"
   ]
  },
  {
   "cell_type": "code",
   "execution_count": 23,
   "metadata": {},
   "outputs": [
    {
     "data": {
      "text/plain": [
       "'Total words amount: 5241'"
      ]
     },
     "execution_count": 23,
     "metadata": {},
     "output_type": "execute_result"
    }
   ],
   "source": [
    "word_count = EDU_1_count + EDU_2_count\n",
    "f\"Total words amount: {word_count}\""
   ]
  },
  {
   "cell_type": "code",
   "execution_count": 24,
   "metadata": {},
   "outputs": [
    {
     "data": {
      "text/plain": [
       "'Total unique words amount: 240'"
      ]
     },
     "execution_count": 24,
     "metadata": {},
     "output_type": "execute_result"
    }
   ],
   "source": [
    "word_count_unique = EDU_1_count_unique + EDU_2_count_unique\n",
    "f\"Total unique words amount: {word_count_unique}\""
   ]
  },
  {
   "cell_type": "code",
   "execution_count": 25,
   "metadata": {},
   "outputs": [
    {
     "data": {
      "text/html": [
       "<div>\n",
       "<style scoped>\n",
       "    .dataframe tbody tr th:only-of-type {\n",
       "        vertical-align: middle;\n",
       "    }\n",
       "\n",
       "    .dataframe tbody tr th {\n",
       "        vertical-align: top;\n",
       "    }\n",
       "\n",
       "    .dataframe thead th {\n",
       "        text-align: right;\n",
       "    }\n",
       "</style>\n",
       "<table border=\"1\" class=\"dataframe\">\n",
       "  <thead>\n",
       "    <tr style=\"text-align: right;\">\n",
       "      <th></th>\n",
       "      <th>0</th>\n",
       "    </tr>\n",
       "  </thead>\n",
       "  <tbody>\n",
       "    <tr>\n",
       "      <th>0</th>\n",
       "      <td>ну я б сказалане очень правдоподобная история</td>\n",
       "    </tr>\n",
       "    <tr>\n",
       "      <th>1</th>\n",
       "      <td>не очень правдоподобная историячеловек собирае...</td>\n",
       "    </tr>\n",
       "    <tr>\n",
       "      <th>2</th>\n",
       "      <td>потому что этот человекне очень правдоподобная...</td>\n",
       "    </tr>\n",
       "    <tr>\n",
       "      <th>3</th>\n",
       "      <td>убирающий собирающий грушипотому что этот человек</td>\n",
       "    </tr>\n",
       "    <tr>\n",
       "      <th>4</th>\n",
       "      <td>наверняка он все-таки звук слышит хорошопотому...</td>\n",
       "    </tr>\n",
       "    <tr>\n",
       "      <th>...</th>\n",
       "      <td>...</td>\n",
       "    </tr>\n",
       "    <tr>\n",
       "      <th>543</th>\n",
       "      <td>ему принеслино это самое а шляпа-то у него уле...</td>\n",
       "    </tr>\n",
       "    <tr>\n",
       "      <th>545</th>\n",
       "      <td>это то есть мальчик такой ну благодарныйвот по...</td>\n",
       "    </tr>\n",
       "    <tr>\n",
       "      <th>546</th>\n",
       "      <td>будем говорить даэто то есть мальчик такой ну ...</td>\n",
       "    </tr>\n",
       "    <tr>\n",
       "      <th>547</th>\n",
       "      <td>вот ну и в общем повёз это всё домой помощникв...</td>\n",
       "    </tr>\n",
       "    <tr>\n",
       "      <th>548</th>\n",
       "      <td>ну вот так вот у меняон собирал</td>\n",
       "    </tr>\n",
       "  </tbody>\n",
       "</table>\n",
       "<p>543 rows × 1 columns</p>\n",
       "</div>"
      ],
      "text/plain": [
       "                                                     0\n",
       "0        ну я б сказалане очень правдоподобная история\n",
       "1    не очень правдоподобная историячеловек собирае...\n",
       "2    потому что этот человекне очень правдоподобная...\n",
       "3    убирающий собирающий грушипотому что этот человек\n",
       "4    наверняка он все-таки звук слышит хорошопотому...\n",
       "..                                                 ...\n",
       "543  ему принеслино это самое а шляпа-то у него уле...\n",
       "545  это то есть мальчик такой ну благодарныйвот по...\n",
       "546  будем говорить даэто то есть мальчик такой ну ...\n",
       "547  вот ну и в общем повёз это всё домой помощникв...\n",
       "548                    ну вот так вот у меняон собирал\n",
       "\n",
       "[543 rows x 1 columns]"
      ]
     },
     "execution_count": 25,
     "metadata": {},
     "output_type": "execute_result"
    }
   ],
   "source": [
    "df_edus = df['EDU_1'] + df['EDU_2']\n",
    "df_edus = df_edus.to_frame()\n",
    "df_edus"
   ]
  }
 ],
 "metadata": {
  "kernelspec": {
   "display_name": "Python 3",
   "language": "python",
   "name": "python3"
  },
  "language_info": {
   "codemirror_mode": {
    "name": "ipython",
    "version": 3
   },
   "file_extension": ".py",
   "mimetype": "text/x-python",
   "name": "python",
   "nbconvert_exporter": "python",
   "pygments_lexer": "ipython3",
   "version": "3.7.7"
  }
 },
 "nbformat": 4,
 "nbformat_minor": 4
}
