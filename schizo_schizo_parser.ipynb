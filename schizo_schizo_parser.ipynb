{
 "cells": [
  {
   "cell_type": "code",
   "execution_count": 1,
   "metadata": {},
   "outputs": [
    {
     "name": "stdout",
     "output_type": "stream",
     "text": [
      "Requirement already satisfied: tqdm in /usr/local/lib/python3.7/site-packages (4.46.0)\n",
      "Requirement already satisfied: pandas in /usr/local/lib/python3.7/site-packages (1.0.3)\n",
      "Requirement already satisfied: matplotlib in /usr/local/lib/python3.7/site-packages (3.2.1)\n",
      "Requirement already satisfied: python-dateutil>=2.6.1 in /usr/local/lib/python3.7/site-packages (from pandas) (2.8.1)\n",
      "Requirement already satisfied: numpy>=1.13.3 in /usr/local/lib/python3.7/site-packages (from pandas) (1.18.4)\n",
      "Requirement already satisfied: pytz>=2017.2 in /usr/local/lib/python3.7/site-packages (from pandas) (2020.1)\n",
      "Requirement already satisfied: kiwisolver>=1.0.1 in /usr/local/lib/python3.7/site-packages (from matplotlib) (1.2.0)\n",
      "Requirement already satisfied: cycler>=0.10 in /usr/local/lib/python3.7/site-packages (from matplotlib) (0.10.0)\n",
      "Requirement already satisfied: pyparsing!=2.0.4,!=2.1.2,!=2.1.6,>=2.0.1 in /usr/local/lib/python3.7/site-packages (from matplotlib) (2.4.7)\n",
      "Requirement already satisfied: six>=1.5 in /usr/local/lib/python3.7/site-packages (from python-dateutil>=2.6.1->pandas) (1.14.0)\n"
     ]
    }
   ],
   "source": [
    "from sys import executable\n",
    "!{executable} -m pip install tqdm pandas matplotlib"
   ]
  },
  {
   "cell_type": "code",
   "execution_count": 2,
   "metadata": {},
   "outputs": [
    {
     "name": "stderr",
     "output_type": "stream",
     "text": [
      "/usr/local/lib/python3.7/site-packages/pandas/compat/__init__.py:117: UserWarning: Could not import the lzma module. Your installed Python is incomplete. Attempting to use lzma compression will result in a RuntimeError.\n",
      "  warnings.warn(msg)\n"
     ]
    }
   ],
   "source": [
    "from os import listdir\n",
    "from os.path import isfile, join\n",
    "import pandas as pd\n",
    "from tqdm.notebook import tqdm"
   ]
  },
  {
   "cell_type": "markdown",
   "metadata": {},
   "source": [
    "### Preprocess files with https://github.com/amir-zeldes/rst2dep"
   ]
  },
  {
   "cell_type": "code",
   "execution_count": 3,
   "metadata": {},
   "outputs": [
    {
     "data": {
      "application/vnd.jupyter.widget-view+json": {
       "model_id": "242f384eb4354d1db4b7dffa61ebf625",
       "version_major": 2,
       "version_minor": 0
      },
      "text/plain": [
       "HBox(children=(FloatProgress(value=0.0, max=9.0), HTML(value='')))"
      ]
     },
     "metadata": {},
     "output_type": "display_data"
    },
    {
     "name": "stdout",
     "output_type": "stream",
     "text": [
      "\n"
     ]
    }
   ],
   "source": [
    "# Processing rs3 files with Zeldes's parser\n",
    "base_dir = \"./\"\n",
    "rs3_dir = base_dir + \"data/schizo/schizo/rs3/\"\n",
    "\n",
    "rs3_files = [rs3_dir + file for file in listdir(rs3_dir) if file.endswith('.rs3')]\n",
    "\n",
    "for file_name in tqdm(rs3_files):\n",
    "    !./rst2dep/rst2dep.py {file_name}"
   ]
  },
  {
   "cell_type": "code",
   "execution_count": 4,
   "metadata": {},
   "outputs": [
    {
     "data": {
      "text/plain": [
       "'We have a 0.00% data loss with this parser'"
      ]
     },
     "execution_count": 4,
     "metadata": {},
     "output_type": "execute_result"
    }
   ],
   "source": [
    "# Counting lost files \n",
    "rsd_dir = base_dir + \"data/schizo/schizo/rsd/\"\n",
    "rsd_files = [file for file in listdir(rsd_dir) if file.endswith('.rsd')]\n",
    "\n",
    "f\"We have a {100 - len(rsd_files) / len(rs3_files) * 100 :.2f}% data loss with this parser\""
   ]
  },
  {
   "cell_type": "markdown",
   "metadata": {},
   "source": [
    "### Parse preprocessed files and process them to csv"
   ]
  },
  {
   "cell_type": "code",
   "execution_count": 5,
   "metadata": {},
   "outputs": [],
   "source": [
    "import re\n",
    "\n",
    "URL_REGEXP = r'\\w+:\\/{2}[\\d\\w-]+(\\.[\\d\\w-]+)*(?:(?:\\/[^\\s/]*))*'\n",
    "\n",
    "def process_string(string, file_name):\n",
    "    '''\n",
    "    Function for deleting EDUs containing IMG,\n",
    "    changes URLs to \"здесь\",\n",
    "    changes \"minus\" to \"longdash\"\n",
    "    '''\n",
    "    string = string.replace('IMG', '')\n",
    "    string = re.sub(URL_REGEXP, 'здесь', string)\n",
    "\n",
    "    if string.startswith(\"-\"):\n",
    "        string = u\"—\" + string[1:]\n",
    "\n",
    "    return string.strip()"
   ]
  },
  {
   "cell_type": "code",
   "execution_count": 6,
   "metadata": {},
   "outputs": [
    {
     "data": {
      "application/vnd.jupyter.widget-view+json": {
       "model_id": "ad4646c78d9f4342951e728507692ed2",
       "version_major": 2,
       "version_minor": 0
      },
      "text/plain": [
       "HBox(children=(FloatProgress(value=0.0, max=9.0), HTML(value='')))"
      ]
     },
     "metadata": {},
     "output_type": "display_data"
    },
    {
     "name": "stdout",
     "output_type": "stream",
     "text": [
      "\n"
     ]
    }
   ],
   "source": [
    "import csv\n",
    "from io import StringIO\n",
    "\n",
    "processed_dir = base_dir + 'data/schizo/schizo/processed/'\n",
    "\n",
    "for file_name in tqdm(rsd_files): \n",
    "    # headers\n",
    "    result = ['EDU_1;EDU_2;Relation'] \n",
    "\n",
    "    # opens rsd-file\n",
    "    with open(rsd_dir + file_name) as file: \n",
    "        csv_str = file.read() + '\\n' \n",
    "        # We need to delete the ' and \" characters from the csv\n",
    "        escaped_csv_str = csv_str.replace(\"\\\"\", '').replace(\"\\'\", '').replace(\";\", '')\n",
    "\n",
    "    # reading csv to df  \n",
    "    df = pd.read_csv(StringIO(escaped_csv_str),\n",
    "                     sep=\"\\t\",\n",
    "                     encoding='utf-8',\n",
    "                     names=[\"self_id\", \"snippet\", \"q\", \"w\", \"e\", \"feats\", \"dep_parent\", \"dep_rel\", \"r\", \"t\"])\n",
    "    \n",
    "    # deleting ROOTs (the highest groups of EDUs in the hierarchy) and EDUs which are IMG files\n",
    "    for index, row in df.iterrows():\n",
    "        if row['dep_rel'].strip() == 'ROOT' or row['snippet'].strip() == \"IMG\":\n",
    "            continue\n",
    "            \n",
    "        # searching parent for EDU1\n",
    "        parent_snippet_vals = df[df['self_id'] == row['dep_parent']].values\n",
    "\n",
    "        if len(parent_snippet_vals) != 0:\n",
    "            snippet_text = process_string(row['snippet'], file_name)\n",
    "            parent_text = process_string(parent_snippet_vals[0][1], file_name)\n",
    "\n",
    "            result.append(';'.join([snippet_text,\n",
    "                                   parent_text,\n",
    "                                   row['dep_rel']]))\n",
    "            \n",
    "        # writing result into csv\n",
    "        with open(processed_dir + file_name[:-4] + '.csv', 'w', encoding='utf-8') as fout:\n",
    "            fout.write('\\n'.join(result))"
   ]
  },
  {
   "cell_type": "markdown",
   "metadata": {},
   "source": [
    "### Merging CSV files into DataFrame"
   ]
  },
  {
   "cell_type": "code",
   "execution_count": 7,
   "metadata": {},
   "outputs": [],
   "source": [
    "import glob"
   ]
  },
  {
   "cell_type": "code",
   "execution_count": 8,
   "metadata": {},
   "outputs": [
    {
     "data": {
      "text/html": [
       "<div>\n",
       "<style scoped>\n",
       "    .dataframe tbody tr th:only-of-type {\n",
       "        vertical-align: middle;\n",
       "    }\n",
       "\n",
       "    .dataframe tbody tr th {\n",
       "        vertical-align: top;\n",
       "    }\n",
       "\n",
       "    .dataframe thead th {\n",
       "        text-align: right;\n",
       "    }\n",
       "</style>\n",
       "<table border=\"1\" class=\"dataframe\">\n",
       "  <thead>\n",
       "    <tr style=\"text-align: right;\">\n",
       "      <th></th>\n",
       "      <th>EDU_1</th>\n",
       "      <th>EDU_2</th>\n",
       "      <th>Relation</th>\n",
       "    </tr>\n",
       "  </thead>\n",
       "  <tbody>\n",
       "    <tr>\n",
       "      <th>0</th>\n",
       "      <td>где-нибудь в предгорьях на Кавказе</td>\n",
       "      <td>действие происходит где-нибудь на юге там</td>\n",
       "      <td>elaboration_r</td>\n",
       "    </tr>\n",
       "    <tr>\n",
       "      <th>1</th>\n",
       "      <td>либо в средней азии</td>\n",
       "      <td>действие происходит где-нибудь на юге там</td>\n",
       "      <td>contrast_m</td>\n",
       "    </tr>\n",
       "    <tr>\n",
       "      <th>2</th>\n",
       "      <td>который груши собирает</td>\n",
       "      <td>мужчина лет сорока пяти там</td>\n",
       "      <td>elaboration_r</td>\n",
       "    </tr>\n",
       "    <tr>\n",
       "      <th>3</th>\n",
       "      <td>взял лестницу</td>\n",
       "      <td>мужчина лет сорока пяти там</td>\n",
       "      <td>joint_m</td>\n",
       "    </tr>\n",
       "    <tr>\n",
       "      <th>4</th>\n",
       "      <td>по лестнице на дерево там</td>\n",
       "      <td>мужчина лет сорока пяти там</td>\n",
       "      <td>elaboration_r</td>\n",
       "    </tr>\n",
       "    <tr>\n",
       "      <th>...</th>\n",
       "      <td>...</td>\n",
       "      <td>...</td>\n",
       "      <td>...</td>\n",
       "    </tr>\n",
       "    <tr>\n",
       "      <th>309</th>\n",
       "      <td>который собирал груши 20</td>\n",
       "      <td>человек 19</td>\n",
       "      <td>elaboration_r</td>\n",
       "    </tr>\n",
       "    <tr>\n",
       "      <th>310</th>\n",
       "      <td>спустился с лестницы 19</td>\n",
       "      <td>человек 19</td>\n",
       "      <td>joint_m</td>\n",
       "    </tr>\n",
       "    <tr>\n",
       "      <th>311</th>\n",
       "      <td>он заметил 21</td>\n",
       "      <td>что не хватает корзины 22</td>\n",
       "      <td>evidence_r</td>\n",
       "    </tr>\n",
       "    <tr>\n",
       "      <th>312</th>\n",
       "      <td>что не хватает корзины 22</td>\n",
       "      <td>человек 19</td>\n",
       "      <td>antithesis_r</td>\n",
       "    </tr>\n",
       "    <tr>\n",
       "      <th>313</th>\n",
       "      <td>вот 23</td>\n",
       "      <td>то есть залез по лестнице на дерево 2</td>\n",
       "      <td>antithesis_r</td>\n",
       "    </tr>\n",
       "  </tbody>\n",
       "</table>\n",
       "<p>314 rows × 3 columns</p>\n",
       "</div>"
      ],
      "text/plain": [
       "                                  EDU_1  \\\n",
       "0    где-нибудь в предгорьях на Кавказе   \n",
       "1                   либо в средней азии   \n",
       "2                который груши собирает   \n",
       "3                         взял лестницу   \n",
       "4             по лестнице на дерево там   \n",
       "..                                  ...   \n",
       "309            который собирал груши 20   \n",
       "310             спустился с лестницы 19   \n",
       "311                       он заметил 21   \n",
       "312           что не хватает корзины 22   \n",
       "313                              вот 23   \n",
       "\n",
       "                                         EDU_2       Relation  \n",
       "0    действие происходит где-нибудь на юге там  elaboration_r  \n",
       "1    действие происходит где-нибудь на юге там     contrast_m  \n",
       "2                  мужчина лет сорока пяти там  elaboration_r  \n",
       "3                  мужчина лет сорока пяти там        joint_m  \n",
       "4                  мужчина лет сорока пяти там  elaboration_r  \n",
       "..                                         ...            ...  \n",
       "309                                 человек 19  elaboration_r  \n",
       "310                                 человек 19        joint_m  \n",
       "311                  что не хватает корзины 22     evidence_r  \n",
       "312                                 человек 19   antithesis_r  \n",
       "313      то есть залез по лестнице на дерево 2   antithesis_r  \n",
       "\n",
       "[314 rows x 3 columns]"
      ]
     },
     "execution_count": 8,
     "metadata": {},
     "output_type": "execute_result"
    }
   ],
   "source": [
    "all_files = glob.glob(processed_dir + \"/*.csv\")\n",
    "df_list = [pd.read_csv(filename, index_col=None, header=0, sep=';') for filename in all_files]\n",
    "\n",
    "df = pd.concat(df_list, axis=0, ignore_index=True)\n",
    "df.dropna()"
   ]
  },
  {
   "cell_type": "markdown",
   "metadata": {},
   "source": [
    "### Analytics"
   ]
  },
  {
   "cell_type": "code",
   "execution_count": 9,
   "metadata": {},
   "outputs": [],
   "source": [
    "import matplotlib.pyplot as plt\n",
    "\n",
    "plt.style.use('ggplot')\n",
    "plt.rcParams['figure.figsize'] = (12, 12)\n",
    "plt.rcParams['font.size'] = 12\n",
    "\n",
    "pd.options.display.float_format = '{:,.3f}'.format"
   ]
  },
  {
   "cell_type": "code",
   "execution_count": 10,
   "metadata": {},
   "outputs": [
    {
     "data": {
      "text/html": [
       "<div>\n",
       "<style scoped>\n",
       "    .dataframe tbody tr th:only-of-type {\n",
       "        vertical-align: middle;\n",
       "    }\n",
       "\n",
       "    .dataframe tbody tr th {\n",
       "        vertical-align: top;\n",
       "    }\n",
       "\n",
       "    .dataframe thead th {\n",
       "        text-align: right;\n",
       "    }\n",
       "</style>\n",
       "<table border=\"1\" class=\"dataframe\">\n",
       "  <thead>\n",
       "    <tr style=\"text-align: right;\">\n",
       "      <th></th>\n",
       "      <th>EDU_1</th>\n",
       "      <th>EDU_2</th>\n",
       "      <th>Relation</th>\n",
       "    </tr>\n",
       "  </thead>\n",
       "  <tbody>\n",
       "    <tr>\n",
       "      <th>count</th>\n",
       "      <td>314</td>\n",
       "      <td>314</td>\n",
       "      <td>314</td>\n",
       "    </tr>\n",
       "    <tr>\n",
       "      <th>unique</th>\n",
       "      <td>314</td>\n",
       "      <td>134</td>\n",
       "      <td>14</td>\n",
       "    </tr>\n",
       "    <tr>\n",
       "      <th>top</th>\n",
       "      <td>вот 20</td>\n",
       "      <td>кто-то ещё из фермеров провёл мимо козу 5</td>\n",
       "      <td>sequence_m</td>\n",
       "    </tr>\n",
       "    <tr>\n",
       "      <th>freq</th>\n",
       "      <td>1</td>\n",
       "      <td>13</td>\n",
       "      <td>121</td>\n",
       "    </tr>\n",
       "  </tbody>\n",
       "</table>\n",
       "</div>"
      ],
      "text/plain": [
       "         EDU_1                                      EDU_2    Relation\n",
       "count      314                                        314         314\n",
       "unique     314                                        134          14\n",
       "top     вот 20  кто-то ещё из фермеров провёл мимо козу 5  sequence_m\n",
       "freq         1                                         13         121"
      ]
     },
     "execution_count": 10,
     "metadata": {},
     "output_type": "execute_result"
    }
   ],
   "source": [
    "df.describe()"
   ]
  },
  {
   "cell_type": "code",
   "execution_count": 11,
   "metadata": {},
   "outputs": [
    {
     "name": "stdout",
     "output_type": "stream",
     "text": [
      "<class 'pandas.core.frame.DataFrame'>\n",
      "RangeIndex: 314 entries, 0 to 313\n",
      "Data columns (total 3 columns):\n",
      " #   Column    Non-Null Count  Dtype \n",
      "---  ------    --------------  ----- \n",
      " 0   EDU_1     314 non-null    object\n",
      " 1   EDU_2     314 non-null    object\n",
      " 2   Relation  314 non-null    object\n",
      "dtypes: object(3)\n",
      "memory usage: 7.5+ KB\n"
     ]
    }
   ],
   "source": [
    "df.info()"
   ]
  },
  {
   "cell_type": "code",
   "execution_count": 12,
   "metadata": {},
   "outputs": [
    {
     "data": {
      "text/plain": [
       "['elaboration_r',\n",
       " 'contrast_m',\n",
       " 'joint_m',\n",
       " 'antithesis_r',\n",
       " 'background_r',\n",
       " 'sequence_m',\n",
       " 'result_r',\n",
       " 'evidence_r',\n",
       " 'restatement_r',\n",
       " 'cause_r',\n",
       " 'evaluation_r',\n",
       " 'circumstance_r',\n",
       " 'preparation_r',\n",
       " 'purpose_r']"
      ]
     },
     "execution_count": 12,
     "metadata": {},
     "output_type": "execute_result"
    }
   ],
   "source": [
    "list(df['Relation'].unique())"
   ]
  },
  {
   "cell_type": "code",
   "execution_count": 13,
   "metadata": {},
   "outputs": [
    {
     "data": {
      "text/plain": [
       "14"
      ]
     },
     "execution_count": 13,
     "metadata": {},
     "output_type": "execute_result"
    }
   ],
   "source": [
    "len(list(df['Relation'].unique()))"
   ]
  },
  {
   "cell_type": "code",
   "execution_count": 14,
   "metadata": {},
   "outputs": [
    {
     "data": {
      "text/html": [
       "<div>\n",
       "<style scoped>\n",
       "    .dataframe tbody tr th:only-of-type {\n",
       "        vertical-align: middle;\n",
       "    }\n",
       "\n",
       "    .dataframe tbody tr th {\n",
       "        vertical-align: top;\n",
       "    }\n",
       "\n",
       "    .dataframe thead th {\n",
       "        text-align: right;\n",
       "    }\n",
       "</style>\n",
       "<table border=\"1\" class=\"dataframe\">\n",
       "  <thead>\n",
       "    <tr style=\"text-align: right;\">\n",
       "      <th></th>\n",
       "      <th>Number of EDUs</th>\n",
       "      <th>Percentage</th>\n",
       "    </tr>\n",
       "    <tr>\n",
       "      <th>Relation</th>\n",
       "      <th></th>\n",
       "      <th></th>\n",
       "    </tr>\n",
       "  </thead>\n",
       "  <tbody>\n",
       "    <tr>\n",
       "      <th>sequence_m</th>\n",
       "      <td>121</td>\n",
       "      <td>38.54 %</td>\n",
       "    </tr>\n",
       "    <tr>\n",
       "      <th>antithesis_r</th>\n",
       "      <td>50</td>\n",
       "      <td>15.92 %</td>\n",
       "    </tr>\n",
       "    <tr>\n",
       "      <th>elaboration_r</th>\n",
       "      <td>28</td>\n",
       "      <td>8.92 %</td>\n",
       "    </tr>\n",
       "    <tr>\n",
       "      <th>joint_m</th>\n",
       "      <td>18</td>\n",
       "      <td>5.73 %</td>\n",
       "    </tr>\n",
       "    <tr>\n",
       "      <th>result_r</th>\n",
       "      <td>17</td>\n",
       "      <td>5.41 %</td>\n",
       "    </tr>\n",
       "    <tr>\n",
       "      <th>evidence_r</th>\n",
       "      <td>15</td>\n",
       "      <td>4.78 %</td>\n",
       "    </tr>\n",
       "    <tr>\n",
       "      <th>restatement_r</th>\n",
       "      <td>14</td>\n",
       "      <td>4.46 %</td>\n",
       "    </tr>\n",
       "    <tr>\n",
       "      <th>circumstance_r</th>\n",
       "      <td>13</td>\n",
       "      <td>4.14 %</td>\n",
       "    </tr>\n",
       "    <tr>\n",
       "      <th>background_r</th>\n",
       "      <td>12</td>\n",
       "      <td>3.82 %</td>\n",
       "    </tr>\n",
       "    <tr>\n",
       "      <th>cause_r</th>\n",
       "      <td>10</td>\n",
       "      <td>3.18 %</td>\n",
       "    </tr>\n",
       "    <tr>\n",
       "      <th>evaluation_r</th>\n",
       "      <td>6</td>\n",
       "      <td>1.91 %</td>\n",
       "    </tr>\n",
       "    <tr>\n",
       "      <th>contrast_m</th>\n",
       "      <td>6</td>\n",
       "      <td>1.91 %</td>\n",
       "    </tr>\n",
       "    <tr>\n",
       "      <th>preparation_r</th>\n",
       "      <td>3</td>\n",
       "      <td>0.96 %</td>\n",
       "    </tr>\n",
       "    <tr>\n",
       "      <th>purpose_r</th>\n",
       "      <td>1</td>\n",
       "      <td>0.32 %</td>\n",
       "    </tr>\n",
       "  </tbody>\n",
       "</table>\n",
       "</div>"
      ],
      "text/plain": [
       "                Number of EDUs Percentage\n",
       "Relation                                 \n",
       "sequence_m                 121    38.54 %\n",
       "antithesis_r                50    15.92 %\n",
       "elaboration_r               28     8.92 %\n",
       "joint_m                     18     5.73 %\n",
       "result_r                    17     5.41 %\n",
       "evidence_r                  15     4.78 %\n",
       "restatement_r               14     4.46 %\n",
       "circumstance_r              13     4.14 %\n",
       "background_r                12     3.82 %\n",
       "cause_r                     10     3.18 %\n",
       "evaluation_r                 6     1.91 %\n",
       "contrast_m                   6     1.91 %\n",
       "preparation_r                3     0.96 %\n",
       "purpose_r                    1     0.32 %"
      ]
     },
     "execution_count": 14,
     "metadata": {},
     "output_type": "execute_result"
    }
   ],
   "source": [
    "df_table = df['Relation'].value_counts().rename_axis('Relation').to_frame('Number of EDUs').astype('int32')\n",
    "\n",
    "df_table['Percentage'] = (df_table['Number of EDUs'] / sum(df_table['Number of EDUs']) * 100)\n",
    "df_table['Percentage'] = df_table['Percentage'].round(2).astype(str) + ' %'\n",
    "\n",
    "df_table"
   ]
  },
  {
   "cell_type": "code",
   "execution_count": 15,
   "metadata": {},
   "outputs": [
    {
     "data": {
      "text/plain": [
       "<matplotlib.axes._subplots.AxesSubplot at 0x1144a8290>"
      ]
     },
     "execution_count": 15,
     "metadata": {},
     "output_type": "execute_result"
    },
    {
     "data": {
      "image/png": "[encoded data removed]",
      "text/plain": [
       "<Figure size 864x864 with 1 Axes>"
      ]
     },
     "metadata": {},
     "output_type": "display_data"
    }
   ],
   "source": [
    "df['Relation'].value_counts().plot(kind='pie')"
   ]
  },
  {
   "cell_type": "code",
   "execution_count": 16,
   "metadata": {},
   "outputs": [
    {
     "data": {
      "text/plain": [
       "<matplotlib.axes._subplots.AxesSubplot at 0x115034410>"
      ]
     },
     "execution_count": 16,
     "metadata": {},
     "output_type": "execute_result"
    },
    {
     "data": {
      "image/png": "[encoded data removed]",
      "text/plain": [
       "<Figure size 864x864 with 1 Axes>"
      ]
     },
     "metadata": {},
     "output_type": "display_data"
    }
   ],
   "source": [
    "df['Relation'].value_counts().plot(kind='barh')"
   ]
  },
  {
   "cell_type": "code",
   "execution_count": 17,
   "metadata": {},
   "outputs": [
    {
     "data": {
      "text/plain": [
       "0      6\n",
       "1      4\n",
       "2      3\n",
       "3      2\n",
       "4      5\n",
       "      ..\n",
       "309    4\n",
       "310    4\n",
       "311    3\n",
       "312    5\n",
       "313    2\n",
       "Name: EDU_1_count, Length: 314, dtype: int32"
      ]
     },
     "execution_count": 17,
     "metadata": {},
     "output_type": "execute_result"
    }
   ],
   "source": [
    "df['EDU_1_count'] = df['EDU_1'].str.findall(r'(\\w+)').str.len()\n",
    "df['EDU_1_count'] = df['EDU_1_count'].dropna().astype('int32')\n",
    "df['EDU_1_count']"
   ]
  },
  {
   "cell_type": "code",
   "execution_count": 18,
   "metadata": {
    "scrolled": true
   },
   "outputs": [
    {
     "data": {
      "text/plain": [
       "0      7\n",
       "1      7\n",
       "2      5\n",
       "3      5\n",
       "4      5\n",
       "      ..\n",
       "309    2\n",
       "310    2\n",
       "311    5\n",
       "312    2\n",
       "313    8\n",
       "Name: EDU_2_count, Length: 314, dtype: int32"
      ]
     },
     "execution_count": 18,
     "metadata": {},
     "output_type": "execute_result"
    }
   ],
   "source": [
    "df['EDU_2_count'] = df['EDU_2'].str.findall(r'(\\w+)').str.len()\n",
    "df['EDU_2_count'] = df['EDU_2_count'].dropna().astype('int32')\n",
    "df['EDU_2_count']"
   ]
  },
  {
   "cell_type": "code",
   "execution_count": 19,
   "metadata": {},
   "outputs": [
    {
     "data": {
      "text/plain": [
       "1527"
      ]
     },
     "execution_count": 19,
     "metadata": {},
     "output_type": "execute_result"
    }
   ],
   "source": [
    "EDU_1_count = df['EDU_1_count'].dropna().sum().astype('int32')\n",
    "EDU_1_count"
   ]
  },
  {
   "cell_type": "code",
   "execution_count": 20,
   "metadata": {},
   "outputs": [
    {
     "data": {
      "text/plain": [
       "66"
      ]
     },
     "execution_count": 20,
     "metadata": {},
     "output_type": "execute_result"
    }
   ],
   "source": [
    "EDU_1_count_unique = df['EDU_1_count'].dropna().unique().sum().astype('int32')\n",
    "EDU_1_count_unique"
   ]
  },
  {
   "cell_type": "code",
   "execution_count": 21,
   "metadata": {},
   "outputs": [
    {
     "data": {
      "text/plain": [
       "1727"
      ]
     },
     "execution_count": 21,
     "metadata": {},
     "output_type": "execute_result"
    }
   ],
   "source": [
    "EDU_2_count = df['EDU_2_count'].dropna().sum().astype('int32')\n",
    "EDU_2_count"
   ]
  },
  {
   "cell_type": "code",
   "execution_count": 22,
   "metadata": {},
   "outputs": [
    {
     "data": {
      "text/plain": [
       "78"
      ]
     },
     "execution_count": 22,
     "metadata": {},
     "output_type": "execute_result"
    }
   ],
   "source": [
    "EDU_2_count_unique= df['EDU_2_count'].dropna().unique().sum().astype('int32')\n",
    "EDU_2_count_unique"
   ]
  },
  {
   "cell_type": "code",
   "execution_count": 23,
   "metadata": {},
   "outputs": [
    {
     "data": {
      "text/plain": [
       "'Total words amount: 3254'"
      ]
     },
     "execution_count": 23,
     "metadata": {},
     "output_type": "execute_result"
    }
   ],
   "source": [
    "word_count = EDU_1_count + EDU_2_count\n",
    "f\"Total words amount: {word_count}\""
   ]
  },
  {
   "cell_type": "code",
   "execution_count": 24,
   "metadata": {},
   "outputs": [
    {
     "data": {
      "text/plain": [
       "'Total unique words amount: 144'"
      ]
     },
     "execution_count": 24,
     "metadata": {},
     "output_type": "execute_result"
    }
   ],
   "source": [
    "word_count_unique = EDU_1_count_unique + EDU_2_count_unique\n",
    "f\"Total unique words amount: {word_count_unique}\""
   ]
  },
  {
   "cell_type": "code",
   "execution_count": 25,
   "metadata": {},
   "outputs": [
    {
     "data": {
      "text/html": [
       "<div>\n",
       "<style scoped>\n",
       "    .dataframe tbody tr th:only-of-type {\n",
       "        vertical-align: middle;\n",
       "    }\n",
       "\n",
       "    .dataframe tbody tr th {\n",
       "        vertical-align: top;\n",
       "    }\n",
       "\n",
       "    .dataframe thead th {\n",
       "        text-align: right;\n",
       "    }\n",
       "</style>\n",
       "<table border=\"1\" class=\"dataframe\">\n",
       "  <thead>\n",
       "    <tr style=\"text-align: right;\">\n",
       "      <th></th>\n",
       "      <th>0</th>\n",
       "    </tr>\n",
       "  </thead>\n",
       "  <tbody>\n",
       "    <tr>\n",
       "      <th>0</th>\n",
       "      <td>где-нибудь в предгорьях на Кавказедействие про...</td>\n",
       "    </tr>\n",
       "    <tr>\n",
       "      <th>1</th>\n",
       "      <td>либо в средней азиидействие происходит где-ниб...</td>\n",
       "    </tr>\n",
       "    <tr>\n",
       "      <th>2</th>\n",
       "      <td>который груши собираетмужчина лет сорока пяти там</td>\n",
       "    </tr>\n",
       "    <tr>\n",
       "      <th>3</th>\n",
       "      <td>взял лестницумужчина лет сорока пяти там</td>\n",
       "    </tr>\n",
       "    <tr>\n",
       "      <th>4</th>\n",
       "      <td>по лестнице на дерево таммужчина лет сорока пя...</td>\n",
       "    </tr>\n",
       "    <tr>\n",
       "      <th>...</th>\n",
       "      <td>...</td>\n",
       "    </tr>\n",
       "    <tr>\n",
       "      <th>309</th>\n",
       "      <td>который собирал груши 20человек 19</td>\n",
       "    </tr>\n",
       "    <tr>\n",
       "      <th>310</th>\n",
       "      <td>спустился с лестницы 19человек 19</td>\n",
       "    </tr>\n",
       "    <tr>\n",
       "      <th>311</th>\n",
       "      <td>он заметил 21что не хватает корзины 22</td>\n",
       "    </tr>\n",
       "    <tr>\n",
       "      <th>312</th>\n",
       "      <td>что не хватает корзины 22человек 19</td>\n",
       "    </tr>\n",
       "    <tr>\n",
       "      <th>313</th>\n",
       "      <td>вот 23то есть залез по лестнице на дерево 2</td>\n",
       "    </tr>\n",
       "  </tbody>\n",
       "</table>\n",
       "<p>314 rows × 1 columns</p>\n",
       "</div>"
      ],
      "text/plain": [
       "                                                     0\n",
       "0    где-нибудь в предгорьях на Кавказедействие про...\n",
       "1    либо в средней азиидействие происходит где-ниб...\n",
       "2    который груши собираетмужчина лет сорока пяти там\n",
       "3             взял лестницумужчина лет сорока пяти там\n",
       "4    по лестнице на дерево таммужчина лет сорока пя...\n",
       "..                                                 ...\n",
       "309                 который собирал груши 20человек 19\n",
       "310                  спустился с лестницы 19человек 19\n",
       "311             он заметил 21что не хватает корзины 22\n",
       "312                что не хватает корзины 22человек 19\n",
       "313        вот 23то есть залез по лестнице на дерево 2\n",
       "\n",
       "[314 rows x 1 columns]"
      ]
     },
     "execution_count": 25,
     "metadata": {},
     "output_type": "execute_result"
    }
   ],
   "source": [
    "df_edus = df['EDU_1'] + df['EDU_2']\n",
    "df_edus = df_edus.to_frame()\n",
    "df_edus"
   ]
  }
 ],
 "metadata": {
  "kernelspec": {
   "display_name": "Python 3",
   "language": "python",
   "name": "python3"
  },
  "language_info": {
   "codemirror_mode": {
    "name": "ipython",
    "version": 3
   },
   "file_extension": ".py",
   "mimetype": "text/x-python",
   "name": "python",
   "nbconvert_exporter": "python",
   "pygments_lexer": "ipython3",
   "version": "3.7.7"
  }
 },
 "nbformat": 4,
 "nbformat_minor": 4
}
