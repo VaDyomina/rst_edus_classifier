{
 "cells": [
  {
   "cell_type": "code",
   "execution_count": 1,
   "metadata": {},
   "outputs": [],
   "source": [
    "from sys import executable\n",
    "!{executable} -m pip install -U numpy pandas seaborn matplotlib sklearn graphviz nltk scipy"
   ]
  },
  {
   "cell_type": "code",
   "execution_count": 2,
   "metadata": {},
   "outputs": [
    {
     "name": "stderr",
     "output_type": "stream",
     "text": [
      "/usr/local/lib/python3.7/site-packages/pandas/compat/__init__.py:117: UserWarning: Could not import the lzma module. Your installed Python is incomplete. Attempting to use lzma compression will result in a RuntimeError.\n",
      "  warnings.warn(msg)\n"
     ]
    }
   ],
   "source": [
    "import numpy as np\n",
    "import pandas as pd\n",
    "\n",
    "import graphviz\n",
    "import seaborn as sns\n",
    "import matplotlib.pyplot as plt\n",
    "\n",
    "from scipy import spatial\n",
    "from statistics import mean\n",
    "from scipy.cluster import hierarchy as sch\n",
    "\n",
    "from nltk import word_tokenize, pos_tag\n",
    "from nltk.translate import bleu_score\n",
    "from nltk.translate.bleu_score import corpus_bleu\n",
    "\n",
    "from sklearn import tree\n",
    "from sklearn.svm import SVC\n",
    "from sklearn.model_selection import KFold\n",
    "from sklearn.naive_bayes import GaussianNB\n",
    "from sklearn.tree import DecisionTreeClassifier\n",
    "from sklearn.feature_extraction.text import TfidfVectorizer\n",
    "from sklearn.preprocessing import LabelEncoder, MinMaxScaler\n",
    "from sklearn.metrics import confusion_matrix, accuracy_score\n",
    "from sklearn.metrics.pairwise import paired_cosine_distances\n",
    "\n",
    "import re\n",
    "import string\n",
    "import pickle\n",
    "\n",
    "from glob import glob"
   ]
  },
  {
   "cell_type": "code",
   "execution_count": 3,
   "metadata": {},
   "outputs": [],
   "source": [
    "import warnings\n",
    "warnings.filterwarnings('ignore')"
   ]
  },
  {
   "cell_type": "code",
   "execution_count": 4,
   "metadata": {},
   "outputs": [
    {
     "name": "stderr",
     "output_type": "stream",
     "text": [
      "[nltk_data] Downloading package punkt to\n",
      "[nltk_data]     /Users/mvshmakovmv/nltk_data...\n",
      "[nltk_data]   Package punkt is already up-to-date!\n"
     ]
    },
    {
     "data": {
      "text/plain": [
       "True"
      ]
     },
     "execution_count": 4,
     "metadata": {},
     "output_type": "execute_result"
    }
   ],
   "source": [
    "from nltk import download\n",
    "download('punkt')"
   ]
  },
  {
   "cell_type": "code",
   "execution_count": 5,
   "metadata": {},
   "outputs": [],
   "source": [
    "%matplotlib inline\n",
    "sns.set(context='notebook', style='darkgrid')\n",
    "pd.set_option('display.float_format', lambda x: f'{x :.2f}')\n",
    "plt.rcParams['figure.figsize'] = (20.0, 10.0)"
   ]
  },
  {
   "cell_type": "code",
   "execution_count": 6,
   "metadata": {},
   "outputs": [],
   "source": [
    "base_dir = \"./\""
   ]
  },
  {
   "cell_type": "markdown",
   "metadata": {},
   "source": [
    "# Reading dataset"
   ]
  },
  {
   "cell_type": "code",
   "execution_count": 7,
   "metadata": {},
   "outputs": [],
   "source": [
    "def get_df_from_csvs_in_path(d):\n",
    "    all_files = glob(d + \"/*.csv\")\n",
    "    df_list = [pd.read_csv(filename, index_col=None, header=0, sep=';') for filename in all_files]\n",
    "\n",
    "    return pd.concat(df_list, axis=0, ignore_index=True)"
   ]
  },
  {
   "cell_type": "code",
   "execution_count": 8,
   "metadata": {},
   "outputs": [
    {
     "data": {
      "text/html": [
       "<div>\n",
       "<style scoped>\n",
       "    .dataframe tbody tr th:only-of-type {\n",
       "        vertical-align: middle;\n",
       "    }\n",
       "\n",
       "    .dataframe tbody tr th {\n",
       "        vertical-align: top;\n",
       "    }\n",
       "\n",
       "    .dataframe thead th {\n",
       "        text-align: right;\n",
       "    }\n",
       "</style>\n",
       "<table border=\"1\" class=\"dataframe\">\n",
       "  <thead>\n",
       "    <tr style=\"text-align: right;\">\n",
       "      <th></th>\n",
       "      <th>EDU_1</th>\n",
       "      <th>EDU_2</th>\n",
       "      <th>Relation</th>\n",
       "      <th>joined_edus</th>\n",
       "    </tr>\n",
       "  </thead>\n",
       "  <tbody>\n",
       "    <tr>\n",
       "      <th>0</th>\n",
       "      <td>После поездки в 2017 на Бали я вспомнил, что о...</td>\n",
       "      <td>поэтому в 2018 полетели снова в теплые края, н...</td>\n",
       "      <td>cause_r</td>\n",
       "      <td>После поездки в 2017 на Бали я вспомнил, что о...</td>\n",
       "    </tr>\n",
       "    <tr>\n",
       "      <th>1</th>\n",
       "      <td>поэтому в 2018 полетели снова в теплые края, н...</td>\n",
       "      <td>есть, что посмотреть.</td>\n",
       "      <td>preparation_r</td>\n",
       "      <td>поэтому в 2018 полетели снова в теплые края, н...</td>\n",
       "    </tr>\n",
       "    <tr>\n",
       "      <th>2</th>\n",
       "      <td>(только сейчас руки дошли написать!).</td>\n",
       "      <td>поэтому в 2018 полетели снова в теплые края, н...</td>\n",
       "      <td>evaluation_r</td>\n",
       "      <td>(только сейчас руки дошли написать!). поэтому ...</td>\n",
       "    </tr>\n",
       "    <tr>\n",
       "      <th>3</th>\n",
       "      <td>В общем, прекрасное место!</td>\n",
       "      <td>поэтому в 2018 полетели снова в теплые края, н...</td>\n",
       "      <td>evaluation_r</td>\n",
       "      <td>В общем, прекрасное место! поэтому в 2018 поле...</td>\n",
       "    </tr>\n",
       "    <tr>\n",
       "      <th>4</th>\n",
       "      <td>Остров не маленький,</td>\n",
       "      <td>есть, что посмотреть.</td>\n",
       "      <td>cause_r</td>\n",
       "      <td>Остров не маленький, есть, что посмотреть.</td>\n",
       "    </tr>\n",
       "    <tr>\n",
       "      <th>...</th>\n",
       "      <td>...</td>\n",
       "      <td>...</td>\n",
       "      <td>...</td>\n",
       "      <td>...</td>\n",
       "    </tr>\n",
       "    <tr>\n",
       "      <th>11752</th>\n",
       "      <td>и примерно такой же будет всегда.</td>\n",
       "      <td>она такая сейчас</td>\n",
       "      <td>sequence_m</td>\n",
       "      <td>и примерно такой же будет всегда. она такая се...</td>\n",
       "    </tr>\n",
       "    <tr>\n",
       "      <th>11753</th>\n",
       "      <td>Надеяться уже в принципе не на что.</td>\n",
       "      <td>Это неотъемлемые свойства платформы,</td>\n",
       "      <td>joint_m</td>\n",
       "      <td>Надеяться уже в принципе не на что. Это неотъе...</td>\n",
       "    </tr>\n",
       "    <tr>\n",
       "      <th>11754</th>\n",
       "      <td>И не то чтобы у меня было для вас что-то получше,</td>\n",
       "      <td>Надеяться уже в принципе не на что.</td>\n",
       "      <td>elaboration_r</td>\n",
       "      <td>И не то чтобы у меня было для вас что-то получ...</td>\n",
       "    </tr>\n",
       "    <tr>\n",
       "      <th>11755</th>\n",
       "      <td>или что я могу сказать, где будущее.</td>\n",
       "      <td>И не то чтобы у меня было для вас что-то получше,</td>\n",
       "      <td>joint_m</td>\n",
       "      <td>или что я могу сказать, где будущее. И не то ч...</td>\n",
       "    </tr>\n",
       "    <tr>\n",
       "      <th>11756</th>\n",
       "      <td>Все что я могу сказать что оно точно не здесь.</td>\n",
       "      <td>И не то чтобы у меня было для вас что-то получше,</td>\n",
       "      <td>contrast_m</td>\n",
       "      <td>Все что я могу сказать что оно точно не здесь....</td>\n",
       "    </tr>\n",
       "  </tbody>\n",
       "</table>\n",
       "<p>11736 rows × 4 columns</p>\n",
       "</div>"
      ],
      "text/plain": [
       "                                                   EDU_1  \\\n",
       "0      После поездки в 2017 на Бали я вспомнил, что о...   \n",
       "1      поэтому в 2018 полетели снова в теплые края, н...   \n",
       "2                  (только сейчас руки дошли написать!).   \n",
       "3                             В общем, прекрасное место!   \n",
       "4                                   Остров не маленький,   \n",
       "...                                                  ...   \n",
       "11752                  и примерно такой же будет всегда.   \n",
       "11753                Надеяться уже в принципе не на что.   \n",
       "11754  И не то чтобы у меня было для вас что-то получше,   \n",
       "11755               или что я могу сказать, где будущее.   \n",
       "11756     Все что я могу сказать что оно точно не здесь.   \n",
       "\n",
       "                                                   EDU_2       Relation  \\\n",
       "0      поэтому в 2018 полетели снова в теплые края, н...        cause_r   \n",
       "1                                  есть, что посмотреть.  preparation_r   \n",
       "2      поэтому в 2018 полетели снова в теплые края, н...   evaluation_r   \n",
       "3      поэтому в 2018 полетели снова в теплые края, н...   evaluation_r   \n",
       "4                                  есть, что посмотреть.        cause_r   \n",
       "...                                                  ...            ...   \n",
       "11752                                   она такая сейчас     sequence_m   \n",
       "11753               Это неотъемлемые свойства платформы,        joint_m   \n",
       "11754                Надеяться уже в принципе не на что.  elaboration_r   \n",
       "11755  И не то чтобы у меня было для вас что-то получше,        joint_m   \n",
       "11756  И не то чтобы у меня было для вас что-то получше,     contrast_m   \n",
       "\n",
       "                                             joined_edus  \n",
       "0      После поездки в 2017 на Бали я вспомнил, что о...  \n",
       "1      поэтому в 2018 полетели снова в теплые края, н...  \n",
       "2      (только сейчас руки дошли написать!). поэтому ...  \n",
       "3      В общем, прекрасное место! поэтому в 2018 поле...  \n",
       "4             Остров не маленький, есть, что посмотреть.  \n",
       "...                                                  ...  \n",
       "11752  и примерно такой же будет всегда. она такая се...  \n",
       "11753  Надеяться уже в принципе не на что. Это неотъе...  \n",
       "11754  И не то чтобы у меня было для вас что-то получ...  \n",
       "11755  или что я могу сказать, где будущее. И не то ч...  \n",
       "11756  Все что я могу сказать что оно точно не здесь....  \n",
       "\n",
       "[11736 rows x 4 columns]"
      ]
     },
     "execution_count": 8,
     "metadata": {},
     "output_type": "execute_result"
    }
   ],
   "source": [
    "blogs_processed_dir = base_dir + 'data/blogs/processed/'\n",
    "\n",
    "df = get_df_from_csvs_in_path(blogs_processed_dir)\n",
    "df['joined_edus'] = df.EDU_1 + ' ' + df.EDU_2\n",
    "\n",
    "df.dropna(inplace=True)\n",
    "df"
   ]
  },
  {
   "cell_type": "code",
   "execution_count": 9,
   "metadata": {},
   "outputs": [
    {
     "data": {
      "text/html": [
       "<div>\n",
       "<style scoped>\n",
       "    .dataframe tbody tr th:only-of-type {\n",
       "        vertical-align: middle;\n",
       "    }\n",
       "\n",
       "    .dataframe tbody tr th {\n",
       "        vertical-align: top;\n",
       "    }\n",
       "\n",
       "    .dataframe thead th {\n",
       "        text-align: right;\n",
       "    }\n",
       "</style>\n",
       "<table border=\"1\" class=\"dataframe\">\n",
       "  <thead>\n",
       "    <tr style=\"text-align: right;\">\n",
       "      <th></th>\n",
       "      <th>EDU_1</th>\n",
       "      <th>EDU_2</th>\n",
       "      <th>Relation</th>\n",
       "      <th>joined_edus</th>\n",
       "    </tr>\n",
       "  </thead>\n",
       "  <tbody>\n",
       "    <tr>\n",
       "      <th>count</th>\n",
       "      <td>11736</td>\n",
       "      <td>11736</td>\n",
       "      <td>11736</td>\n",
       "      <td>11736</td>\n",
       "    </tr>\n",
       "    <tr>\n",
       "      <th>unique</th>\n",
       "      <td>11643</td>\n",
       "      <td>6383</td>\n",
       "      <td>18</td>\n",
       "      <td>11730</td>\n",
       "    </tr>\n",
       "    <tr>\n",
       "      <th>top</th>\n",
       "      <td>[код]</td>\n",
       "      <td>Встать ровно,</td>\n",
       "      <td>joint_m</td>\n",
       "      <td>Боль Боль</td>\n",
       "    </tr>\n",
       "    <tr>\n",
       "      <th>freq</th>\n",
       "      <td>9</td>\n",
       "      <td>23</td>\n",
       "      <td>2502</td>\n",
       "      <td>2</td>\n",
       "    </tr>\n",
       "  </tbody>\n",
       "</table>\n",
       "</div>"
      ],
      "text/plain": [
       "        EDU_1          EDU_2 Relation joined_edus\n",
       "count   11736          11736    11736       11736\n",
       "unique  11643           6383       18       11730\n",
       "top     [код]  Встать ровно,  joint_m   Боль Боль\n",
       "freq        9             23     2502           2"
      ]
     },
     "execution_count": 9,
     "metadata": {},
     "output_type": "execute_result"
    }
   ],
   "source": [
    "df.describe()"
   ]
  },
  {
   "cell_type": "markdown",
   "metadata": {},
   "source": [
    "# Feature extractors"
   ]
  },
  {
   "cell_type": "code",
   "execution_count": 10,
   "metadata": {},
   "outputs": [],
   "source": [
    "features = ['num_of_words', 'avg_word_len', 'upcase_words_num', 'pos_tags', 'tf_idf']"
   ]
  },
  {
   "cell_type": "code",
   "execution_count": 11,
   "metadata": {},
   "outputs": [],
   "source": [
    "test_edu = 'Современные технологии достигли такого уровня, что современная методология разработки создаёт предпосылки для позиций.'\n",
    "test_edu_2 = 'Лишь базовые сценарии поведения пользователей, превозмогая сложившуюся непростую экономическую ситуацию.'"
   ]
  },
  {
   "cell_type": "code",
   "execution_count": 12,
   "metadata": {},
   "outputs": [
    {
     "data": {
      "text/plain": [
       "13"
      ]
     },
     "execution_count": 12,
     "metadata": {},
     "output_type": "execute_result"
    }
   ],
   "source": [
    "num_of_words = lambda edus: len(edus.split())\n",
    "num_of_words(test_edu)"
   ]
  },
  {
   "cell_type": "code",
   "execution_count": 13,
   "metadata": {},
   "outputs": [
    {
     "data": {
      "text/plain": [
       "8.153846153846153"
      ]
     },
     "execution_count": 13,
     "metadata": {},
     "output_type": "execute_result"
    }
   ],
   "source": [
    "avg_word_len = lambda edus: mean([len(word) for word in edus.split()])\n",
    "avg_word_len(test_edu)"
   ]
  },
  {
   "cell_type": "code",
   "execution_count": 14,
   "metadata": {},
   "outputs": [
    {
     "data": {
      "text/plain": [
       "1"
      ]
     },
     "execution_count": 14,
     "metadata": {},
     "output_type": "execute_result"
    }
   ],
   "source": [
    "upcase_words_num = lambda edus: len([word for word in edus.split() if word.istitle()])\n",
    "upcase_words_num(test_edu)"
   ]
  },
  {
   "cell_type": "code",
   "execution_count": 15,
   "metadata": {},
   "outputs": [
    {
     "data": {
      "text/plain": [
       "[[('современные', 'NN')],\n",
       " [('технологии', 'NN')],\n",
       " [('достигли', 'NN')],\n",
       " [('такого', 'NN')],\n",
       " [('уровня', 'NN'), (',', ',')],\n",
       " [('что', 'NN')],\n",
       " [('современная', 'NN')],\n",
       " [('методология', 'NN')],\n",
       " [('разработки', 'NN')],\n",
       " [('создаёт', 'NN')],\n",
       " [('предпосылки', 'NN')],\n",
       " [('для', 'NN')],\n",
       " [('позиций', 'NN'), ('.', '.')]]"
      ]
     },
     "execution_count": 15,
     "metadata": {},
     "output_type": "execute_result"
    }
   ],
   "source": [
    "def pos_tags(edus):\n",
    "    pos_tags = []\n",
    "\n",
    "    for word in edus.split():\n",
    "        word = word.lower()\n",
    "        tokenized = word_tokenize(word)\n",
    "        pos_tags.append(pos_tag(tokenized))\n",
    "\n",
    "    return pos_tags\n",
    "\n",
    "pos_tags(test_edu)"
   ]
  },
  {
   "cell_type": "code",
   "execution_count": 16,
   "metadata": {},
   "outputs": [
    {
     "name": "stdout",
     "output_type": "stream",
     "text": [
      "  (0, 0)\t1.0\n",
      "  (1, 10)\t1.0\n",
      "  (2, 2)\t1.0\n",
      "  (3, 9)\t1.0\n",
      "  (4, 11)\t1.0\n",
      "  (5, 12)\t1.0\n",
      "  (6, 7)\t1.0\n",
      "  (7, 3)\t1.0\n",
      "  (8, 6)\t1.0\n",
      "  (9, 8)\t1.0\n",
      "  (10, 5)\t1.0\n",
      "  (11, 1)\t1.0\n",
      "  (12, 4)\t1.0\n"
     ]
    }
   ],
   "source": [
    "def tf_idf(edus):\n",
    "    tfidf_vectorizer = TfidfVectorizer(lowercase=True, stop_words=None, use_idf=True,\n",
    "                                       smooth_idf=False, preprocessor=lambda edus: re.sub(r\"[{}]\".format(string.punctuation), \" \", edus))\n",
    "    return tfidf_vectorizer.fit_transform(edus.split())\n",
    "\n",
    "print(tf_idf(test_edu))"
   ]
  },
  {
   "cell_type": "code",
   "execution_count": 17,
   "metadata": {},
   "outputs": [],
   "source": [
    "morph_correlation = lambda row, row_2: spatial.distance.correlation(row.split(), row_2.split())\n",
    "morph_canberra = lambda row, row_2: spatial.distance.canberra(row.split(), row_2.split())\n",
    "morph_hamming = lambda row: spatial.distance.hamming(row.split(), row_2.split())\n",
    "morph_matching = lambda row: spatial.distance.get_match_between_vectors_(row.split(), row_2.split())\n",
    "\n",
    "# morph_correlation(test_edu, test_edu_2)"
   ]
  },
  {
   "cell_type": "code",
   "execution_count": 18,
   "metadata": {},
   "outputs": [],
   "source": [
    "def ang_cos_tf_idf_sim(tf_idf_x, tf_idf_y):\n",
    "    cos_dist = paired_cosine_distances(tf_idf_x, tf_idf_y)\n",
    "    np.arccos(cos_dist) * 2. / np.pi\n",
    "\n",
    "# ang_cos_tf_idf_sim(tf_idf_x, tf_idf_y)"
   ]
  },
  {
   "cell_type": "code",
   "execution_count": 19,
   "metadata": {},
   "outputs": [
    {
     "data": {
      "text/plain": [
       "0.7808356939911968"
      ]
     },
     "execution_count": 19,
     "metadata": {},
     "output_type": "execute_result"
    }
   ],
   "source": [
    "get_bleu_score = lambda row, row_2: bleu_score.sentence_bleu([row], row_2, weights=(0.5,))\n",
    "get_bleu_score(test_edu, test_edu_2)"
   ]
  },
  {
   "cell_type": "markdown",
   "metadata": {},
   "source": [
    "# Features extraction"
   ]
  },
  {
   "cell_type": "code",
   "execution_count": 20,
   "metadata": {},
   "outputs": [
    {
     "data": {
      "text/html": [
       "<div>\n",
       "<style scoped>\n",
       "    .dataframe tbody tr th:only-of-type {\n",
       "        vertical-align: middle;\n",
       "    }\n",
       "\n",
       "    .dataframe tbody tr th {\n",
       "        vertical-align: top;\n",
       "    }\n",
       "\n",
       "    .dataframe thead th {\n",
       "        text-align: right;\n",
       "    }\n",
       "</style>\n",
       "<table border=\"1\" class=\"dataframe\">\n",
       "  <thead>\n",
       "    <tr style=\"text-align: right;\">\n",
       "      <th></th>\n",
       "      <th>EDU_1</th>\n",
       "      <th>EDU_2</th>\n",
       "      <th>Relation</th>\n",
       "      <th>joined_edus</th>\n",
       "      <th>num_of_words</th>\n",
       "      <th>avg_word_len</th>\n",
       "      <th>upcase_words_num</th>\n",
       "      <th>bleu_score</th>\n",
       "    </tr>\n",
       "  </thead>\n",
       "  <tbody>\n",
       "    <tr>\n",
       "      <th>0</th>\n",
       "      <td>После поездки в 2017 на Бали я вспомнил, что о...</td>\n",
       "      <td>поэтому в 2018 полетели снова в теплые края, н...</td>\n",
       "      <td>cause_r</td>\n",
       "      <td>После поездки в 2017 на Бали я вспомнил, что о...</td>\n",
       "      <td>31</td>\n",
       "      <td>4.52</td>\n",
       "      <td>4</td>\n",
       "      <td>0.54</td>\n",
       "    </tr>\n",
       "    <tr>\n",
       "      <th>1</th>\n",
       "      <td>поэтому в 2018 полетели снова в теплые края, н...</td>\n",
       "      <td>есть, что посмотреть.</td>\n",
       "      <td>preparation_r</td>\n",
       "      <td>поэтому в 2018 полетели снова в теплые края, н...</td>\n",
       "      <td>15</td>\n",
       "      <td>5.00</td>\n",
       "      <td>2</td>\n",
       "      <td>0.10</td>\n",
       "    </tr>\n",
       "    <tr>\n",
       "      <th>2</th>\n",
       "      <td>(только сейчас руки дошли написать!).</td>\n",
       "      <td>поэтому в 2018 полетели снова в теплые края, н...</td>\n",
       "      <td>evaluation_r</td>\n",
       "      <td>(только сейчас руки дошли написать!). поэтому ...</td>\n",
       "      <td>17</td>\n",
       "      <td>5.24</td>\n",
       "      <td>2</td>\n",
       "      <td>0.63</td>\n",
       "    </tr>\n",
       "    <tr>\n",
       "      <th>3</th>\n",
       "      <td>В общем, прекрасное место!</td>\n",
       "      <td>поэтому в 2018 полетели снова в теплые края, н...</td>\n",
       "      <td>evaluation_r</td>\n",
       "      <td>В общем, прекрасное место! поэтому в 2018 поле...</td>\n",
       "      <td>16</td>\n",
       "      <td>4.94</td>\n",
       "      <td>3</td>\n",
       "      <td>0.56</td>\n",
       "    </tr>\n",
       "    <tr>\n",
       "      <th>4</th>\n",
       "      <td>Остров не маленький,</td>\n",
       "      <td>есть, что посмотреть.</td>\n",
       "      <td>cause_r</td>\n",
       "      <td>Остров не маленький, есть, что посмотреть.</td>\n",
       "      <td>6</td>\n",
       "      <td>6.17</td>\n",
       "      <td>1</td>\n",
       "      <td>0.72</td>\n",
       "    </tr>\n",
       "    <tr>\n",
       "      <th>...</th>\n",
       "      <td>...</td>\n",
       "      <td>...</td>\n",
       "      <td>...</td>\n",
       "      <td>...</td>\n",
       "      <td>...</td>\n",
       "      <td>...</td>\n",
       "      <td>...</td>\n",
       "      <td>...</td>\n",
       "    </tr>\n",
       "    <tr>\n",
       "      <th>11752</th>\n",
       "      <td>и примерно такой же будет всегда.</td>\n",
       "      <td>она такая сейчас</td>\n",
       "      <td>sequence_m</td>\n",
       "      <td>и примерно такой же будет всегда. она такая се...</td>\n",
       "      <td>9</td>\n",
       "      <td>4.67</td>\n",
       "      <td>0</td>\n",
       "      <td>0.29</td>\n",
       "    </tr>\n",
       "    <tr>\n",
       "      <th>11753</th>\n",
       "      <td>Надеяться уже в принципе не на что.</td>\n",
       "      <td>Это неотъемлемые свойства платформы,</td>\n",
       "      <td>joint_m</td>\n",
       "      <td>Надеяться уже в принципе не на что. Это неотъе...</td>\n",
       "      <td>11</td>\n",
       "      <td>5.64</td>\n",
       "      <td>2</td>\n",
       "      <td>0.69</td>\n",
       "    </tr>\n",
       "    <tr>\n",
       "      <th>11754</th>\n",
       "      <td>И не то чтобы у меня было для вас что-то получше,</td>\n",
       "      <td>Надеяться уже в принципе не на что.</td>\n",
       "      <td>elaboration_r</td>\n",
       "      <td>И не то чтобы у меня было для вас что-то получ...</td>\n",
       "      <td>18</td>\n",
       "      <td>3.78</td>\n",
       "      <td>2</td>\n",
       "      <td>0.54</td>\n",
       "    </tr>\n",
       "    <tr>\n",
       "      <th>11755</th>\n",
       "      <td>или что я могу сказать, где будущее.</td>\n",
       "      <td>И не то чтобы у меня было для вас что-то получше,</td>\n",
       "      <td>joint_m</td>\n",
       "      <td>или что я могу сказать, где будущее. И не то ч...</td>\n",
       "      <td>18</td>\n",
       "      <td>3.83</td>\n",
       "      <td>1</td>\n",
       "      <td>0.70</td>\n",
       "    </tr>\n",
       "    <tr>\n",
       "      <th>11756</th>\n",
       "      <td>Все что я могу сказать что оно точно не здесь.</td>\n",
       "      <td>И не то чтобы у меня было для вас что-то получше,</td>\n",
       "      <td>contrast_m</td>\n",
       "      <td>Все что я могу сказать что оно точно не здесь....</td>\n",
       "      <td>21</td>\n",
       "      <td>3.62</td>\n",
       "      <td>2</td>\n",
       "      <td>0.82</td>\n",
       "    </tr>\n",
       "  </tbody>\n",
       "</table>\n",
       "<p>11736 rows × 8 columns</p>\n",
       "</div>"
      ],
      "text/plain": [
       "                                                   EDU_1  \\\n",
       "0      После поездки в 2017 на Бали я вспомнил, что о...   \n",
       "1      поэтому в 2018 полетели снова в теплые края, н...   \n",
       "2                  (только сейчас руки дошли написать!).   \n",
       "3                             В общем, прекрасное место!   \n",
       "4                                   Остров не маленький,   \n",
       "...                                                  ...   \n",
       "11752                  и примерно такой же будет всегда.   \n",
       "11753                Надеяться уже в принципе не на что.   \n",
       "11754  И не то чтобы у меня было для вас что-то получше,   \n",
       "11755               или что я могу сказать, где будущее.   \n",
       "11756     Все что я могу сказать что оно точно не здесь.   \n",
       "\n",
       "                                                   EDU_2       Relation  \\\n",
       "0      поэтому в 2018 полетели снова в теплые края, н...        cause_r   \n",
       "1                                  есть, что посмотреть.  preparation_r   \n",
       "2      поэтому в 2018 полетели снова в теплые края, н...   evaluation_r   \n",
       "3      поэтому в 2018 полетели снова в теплые края, н...   evaluation_r   \n",
       "4                                  есть, что посмотреть.        cause_r   \n",
       "...                                                  ...            ...   \n",
       "11752                                   она такая сейчас     sequence_m   \n",
       "11753               Это неотъемлемые свойства платформы,        joint_m   \n",
       "11754                Надеяться уже в принципе не на что.  elaboration_r   \n",
       "11755  И не то чтобы у меня было для вас что-то получше,        joint_m   \n",
       "11756  И не то чтобы у меня было для вас что-то получше,     contrast_m   \n",
       "\n",
       "                                             joined_edus  num_of_words  \\\n",
       "0      После поездки в 2017 на Бали я вспомнил, что о...            31   \n",
       "1      поэтому в 2018 полетели снова в теплые края, н...            15   \n",
       "2      (только сейчас руки дошли написать!). поэтому ...            17   \n",
       "3      В общем, прекрасное место! поэтому в 2018 поле...            16   \n",
       "4             Остров не маленький, есть, что посмотреть.             6   \n",
       "...                                                  ...           ...   \n",
       "11752  и примерно такой же будет всегда. она такая се...             9   \n",
       "11753  Надеяться уже в принципе не на что. Это неотъе...            11   \n",
       "11754  И не то чтобы у меня было для вас что-то получ...            18   \n",
       "11755  или что я могу сказать, где будущее. И не то ч...            18   \n",
       "11756  Все что я могу сказать что оно точно не здесь....            21   \n",
       "\n",
       "       avg_word_len  upcase_words_num  bleu_score  \n",
       "0              4.52                 4        0.54  \n",
       "1              5.00                 2        0.10  \n",
       "2              5.24                 2        0.63  \n",
       "3              4.94                 3        0.56  \n",
       "4              6.17                 1        0.72  \n",
       "...             ...               ...         ...  \n",
       "11752          4.67                 0        0.29  \n",
       "11753          5.64                 2        0.69  \n",
       "11754          3.78                 2        0.54  \n",
       "11755          3.83                 1        0.70  \n",
       "11756          3.62                 2        0.82  \n",
       "\n",
       "[11736 rows x 8 columns]"
      ]
     },
     "execution_count": 20,
     "metadata": {},
     "output_type": "execute_result"
    }
   ],
   "source": [
    "def apply_bleu(columns):\n",
    "    return get_bleu_score(columns[0], columns[1])\n",
    "\n",
    "def extract_features(target_df):\n",
    "    target_df['num_of_words'] = target_df.joined_edus.apply(num_of_words)\n",
    "    target_df['avg_word_len'] = target_df.joined_edus.apply(avg_word_len)\n",
    "    target_df['upcase_words_num'] = target_df.joined_edus.apply(upcase_words_num)\n",
    "    target_df['bleu_score'] = list(map(apply_bleu, zip(target_df['EDU_1'], target_df['EDU_2'])))\n",
    "    return target_df\n",
    "\n",
    "extract_features(df)"
   ]
  },
  {
   "cell_type": "markdown",
   "metadata": {},
   "source": [
    "# Data preprocessing"
   ]
  },
  {
   "cell_type": "code",
   "execution_count": 21,
   "metadata": {},
   "outputs": [],
   "source": [
    "rels_to_classify = []\n",
    "\n",
    "def preprocess(target_df):\n",
    "    global rels_to_classify\n",
    "\n",
    "    # We need to bound the amount of available classes and memoize it\n",
    "    if (len(rels_to_classify) == 0):\n",
    "        counts = target_df.Relation.value_counts().loc[lambda x: x > 500]\n",
    "        rels_to_classify = list(target_df.Relation[counts.index].index)\n",
    "    target_df = target_df.loc[target_df.Relation.isin(rels_to_classify)]\n",
    "\n",
    "    # Encoding categorical Relation varible\n",
    "    target_df.Relation = LabelEncoder().fit_transform(target_df.Relation)\n",
    "    \n",
    "    # Drop categorical varibles\n",
    "    categorical = target_df.select_dtypes(include=['object']).columns\n",
    "    target_df.drop(columns=categorical, inplace=True)\n",
    "\n",
    "    # MinMaxScaler scaling\n",
    "    cols_without_relation = target_df.columns[target_df.columns != 'Relation']\n",
    "    target_df[cols_without_relation] = MinMaxScaler().fit_transform(target_df[cols_without_relation])\n",
    "\n",
    "    target_df.dropna(inplace=True)\n",
    "    \n",
    "    return target_df"
   ]
  },
  {
   "cell_type": "code",
   "execution_count": 22,
   "metadata": {},
   "outputs": [
    {
     "data": {
      "text/plain": [
       "['joint_m',\n",
       " 'elaboration_r',\n",
       " 'contrast_m',\n",
       " 'cause_r',\n",
       " 'evaluation_r',\n",
       " 'condition_r',\n",
       " 'sequence_m',\n",
       " 'preparation_r']"
      ]
     },
     "execution_count": 22,
     "metadata": {},
     "output_type": "execute_result"
    }
   ],
   "source": [
    "df = preprocess(df)\n",
    "rels_to_classify"
   ]
  },
  {
   "cell_type": "code",
   "execution_count": 23,
   "metadata": {},
   "outputs": [
    {
     "data": {
      "text/html": [
       "<div>\n",
       "<style scoped>\n",
       "    .dataframe tbody tr th:only-of-type {\n",
       "        vertical-align: middle;\n",
       "    }\n",
       "\n",
       "    .dataframe tbody tr th {\n",
       "        vertical-align: top;\n",
       "    }\n",
       "\n",
       "    .dataframe thead th {\n",
       "        text-align: right;\n",
       "    }\n",
       "</style>\n",
       "<table border=\"1\" class=\"dataframe\">\n",
       "  <thead>\n",
       "    <tr style=\"text-align: right;\">\n",
       "      <th></th>\n",
       "      <th>Relation</th>\n",
       "      <th>num_of_words</th>\n",
       "      <th>avg_word_len</th>\n",
       "      <th>upcase_words_num</th>\n",
       "      <th>bleu_score</th>\n",
       "    </tr>\n",
       "  </thead>\n",
       "  <tbody>\n",
       "    <tr>\n",
       "      <th>0</th>\n",
       "      <td>0</td>\n",
       "      <td>0.28</td>\n",
       "      <td>0.21</td>\n",
       "      <td>0.04</td>\n",
       "      <td>0.54</td>\n",
       "    </tr>\n",
       "    <tr>\n",
       "      <th>1</th>\n",
       "      <td>6</td>\n",
       "      <td>0.12</td>\n",
       "      <td>0.25</td>\n",
       "      <td>0.02</td>\n",
       "      <td>0.10</td>\n",
       "    </tr>\n",
       "    <tr>\n",
       "      <th>2</th>\n",
       "      <td>4</td>\n",
       "      <td>0.14</td>\n",
       "      <td>0.27</td>\n",
       "      <td>0.02</td>\n",
       "      <td>0.63</td>\n",
       "    </tr>\n",
       "    <tr>\n",
       "      <th>3</th>\n",
       "      <td>4</td>\n",
       "      <td>0.13</td>\n",
       "      <td>0.24</td>\n",
       "      <td>0.03</td>\n",
       "      <td>0.56</td>\n",
       "    </tr>\n",
       "    <tr>\n",
       "      <th>4</th>\n",
       "      <td>0</td>\n",
       "      <td>0.04</td>\n",
       "      <td>0.34</td>\n",
       "      <td>0.01</td>\n",
       "      <td>0.72</td>\n",
       "    </tr>\n",
       "    <tr>\n",
       "      <th>...</th>\n",
       "      <td>...</td>\n",
       "      <td>...</td>\n",
       "      <td>...</td>\n",
       "      <td>...</td>\n",
       "      <td>...</td>\n",
       "    </tr>\n",
       "    <tr>\n",
       "      <th>11752</th>\n",
       "      <td>7</td>\n",
       "      <td>0.07</td>\n",
       "      <td>0.22</td>\n",
       "      <td>0.00</td>\n",
       "      <td>0.29</td>\n",
       "    </tr>\n",
       "    <tr>\n",
       "      <th>11753</th>\n",
       "      <td>5</td>\n",
       "      <td>0.09</td>\n",
       "      <td>0.30</td>\n",
       "      <td>0.02</td>\n",
       "      <td>0.69</td>\n",
       "    </tr>\n",
       "    <tr>\n",
       "      <th>11754</th>\n",
       "      <td>3</td>\n",
       "      <td>0.15</td>\n",
       "      <td>0.15</td>\n",
       "      <td>0.02</td>\n",
       "      <td>0.54</td>\n",
       "    </tr>\n",
       "    <tr>\n",
       "      <th>11755</th>\n",
       "      <td>5</td>\n",
       "      <td>0.15</td>\n",
       "      <td>0.15</td>\n",
       "      <td>0.01</td>\n",
       "      <td>0.70</td>\n",
       "    </tr>\n",
       "    <tr>\n",
       "      <th>11756</th>\n",
       "      <td>2</td>\n",
       "      <td>0.18</td>\n",
       "      <td>0.14</td>\n",
       "      <td>0.02</td>\n",
       "      <td>0.82</td>\n",
       "    </tr>\n",
       "  </tbody>\n",
       "</table>\n",
       "<p>9822 rows × 5 columns</p>\n",
       "</div>"
      ],
      "text/plain": [
       "       Relation  num_of_words  avg_word_len  upcase_words_num  bleu_score\n",
       "0             0          0.28          0.21              0.04        0.54\n",
       "1             6          0.12          0.25              0.02        0.10\n",
       "2             4          0.14          0.27              0.02        0.63\n",
       "3             4          0.13          0.24              0.03        0.56\n",
       "4             0          0.04          0.34              0.01        0.72\n",
       "...         ...           ...           ...               ...         ...\n",
       "11752         7          0.07          0.22              0.00        0.29\n",
       "11753         5          0.09          0.30              0.02        0.69\n",
       "11754         3          0.15          0.15              0.02        0.54\n",
       "11755         5          0.15          0.15              0.01        0.70\n",
       "11756         2          0.18          0.14              0.02        0.82\n",
       "\n",
       "[9822 rows x 5 columns]"
      ]
     },
     "execution_count": 23,
     "metadata": {},
     "output_type": "execute_result"
    }
   ],
   "source": [
    "df"
   ]
  },
  {
   "cell_type": "code",
   "execution_count": 24,
   "metadata": {},
   "outputs": [
    {
     "data": {
      "text/plain": [
       "<matplotlib.axes._subplots.AxesSubplot at 0x118693d10>"
      ]
     },
     "execution_count": 24,
     "metadata": {},
     "output_type": "execute_result"
    },
    {
     "data": {
      "image/png": "[encoded data removed]",
      "text/plain": [
       "<Figure size 1440x720 with 2 Axes>"
      ]
     },
     "metadata": {},
     "output_type": "display_data"
    }
   ],
   "source": [
    "sns.heatmap(df.corr(), square = True, cmap='OrRd')"
   ]
  },
  {
   "cell_type": "code",
   "execution_count": 25,
   "metadata": {},
   "outputs": [],
   "source": [
    "X = df.drop(columns=['Relation'])\n",
    "y = df.Relation"
   ]
  },
  {
   "cell_type": "code",
   "execution_count": 26,
   "metadata": {},
   "outputs": [
    {
     "data": {
      "text/html": [
       "<div>\n",
       "<style scoped>\n",
       "    .dataframe tbody tr th:only-of-type {\n",
       "        vertical-align: middle;\n",
       "    }\n",
       "\n",
       "    .dataframe tbody tr th {\n",
       "        vertical-align: top;\n",
       "    }\n",
       "\n",
       "    .dataframe thead th {\n",
       "        text-align: right;\n",
       "    }\n",
       "</style>\n",
       "<table border=\"1\" class=\"dataframe\">\n",
       "  <thead>\n",
       "    <tr style=\"text-align: right;\">\n",
       "      <th></th>\n",
       "      <th>num_of_words</th>\n",
       "      <th>avg_word_len</th>\n",
       "      <th>upcase_words_num</th>\n",
       "      <th>bleu_score</th>\n",
       "    </tr>\n",
       "  </thead>\n",
       "  <tbody>\n",
       "    <tr>\n",
       "      <th>0</th>\n",
       "      <td>0.28</td>\n",
       "      <td>0.21</td>\n",
       "      <td>0.04</td>\n",
       "      <td>0.54</td>\n",
       "    </tr>\n",
       "    <tr>\n",
       "      <th>1</th>\n",
       "      <td>0.12</td>\n",
       "      <td>0.25</td>\n",
       "      <td>0.02</td>\n",
       "      <td>0.10</td>\n",
       "    </tr>\n",
       "    <tr>\n",
       "      <th>2</th>\n",
       "      <td>0.14</td>\n",
       "      <td>0.27</td>\n",
       "      <td>0.02</td>\n",
       "      <td>0.63</td>\n",
       "    </tr>\n",
       "    <tr>\n",
       "      <th>3</th>\n",
       "      <td>0.13</td>\n",
       "      <td>0.24</td>\n",
       "      <td>0.03</td>\n",
       "      <td>0.56</td>\n",
       "    </tr>\n",
       "    <tr>\n",
       "      <th>4</th>\n",
       "      <td>0.04</td>\n",
       "      <td>0.34</td>\n",
       "      <td>0.01</td>\n",
       "      <td>0.72</td>\n",
       "    </tr>\n",
       "    <tr>\n",
       "      <th>...</th>\n",
       "      <td>...</td>\n",
       "      <td>...</td>\n",
       "      <td>...</td>\n",
       "      <td>...</td>\n",
       "    </tr>\n",
       "    <tr>\n",
       "      <th>11752</th>\n",
       "      <td>0.07</td>\n",
       "      <td>0.22</td>\n",
       "      <td>0.00</td>\n",
       "      <td>0.29</td>\n",
       "    </tr>\n",
       "    <tr>\n",
       "      <th>11753</th>\n",
       "      <td>0.09</td>\n",
       "      <td>0.30</td>\n",
       "      <td>0.02</td>\n",
       "      <td>0.69</td>\n",
       "    </tr>\n",
       "    <tr>\n",
       "      <th>11754</th>\n",
       "      <td>0.15</td>\n",
       "      <td>0.15</td>\n",
       "      <td>0.02</td>\n",
       "      <td>0.54</td>\n",
       "    </tr>\n",
       "    <tr>\n",
       "      <th>11755</th>\n",
       "      <td>0.15</td>\n",
       "      <td>0.15</td>\n",
       "      <td>0.01</td>\n",
       "      <td>0.70</td>\n",
       "    </tr>\n",
       "    <tr>\n",
       "      <th>11756</th>\n",
       "      <td>0.18</td>\n",
       "      <td>0.14</td>\n",
       "      <td>0.02</td>\n",
       "      <td>0.82</td>\n",
       "    </tr>\n",
       "  </tbody>\n",
       "</table>\n",
       "<p>9822 rows × 4 columns</p>\n",
       "</div>"
      ],
      "text/plain": [
       "       num_of_words  avg_word_len  upcase_words_num  bleu_score\n",
       "0              0.28          0.21              0.04        0.54\n",
       "1              0.12          0.25              0.02        0.10\n",
       "2              0.14          0.27              0.02        0.63\n",
       "3              0.13          0.24              0.03        0.56\n",
       "4              0.04          0.34              0.01        0.72\n",
       "...             ...           ...               ...         ...\n",
       "11752          0.07          0.22              0.00        0.29\n",
       "11753          0.09          0.30              0.02        0.69\n",
       "11754          0.15          0.15              0.02        0.54\n",
       "11755          0.15          0.15              0.01        0.70\n",
       "11756          0.18          0.14              0.02        0.82\n",
       "\n",
       "[9822 rows x 4 columns]"
      ]
     },
     "execution_count": 26,
     "metadata": {},
     "output_type": "execute_result"
    }
   ],
   "source": [
    "X"
   ]
  },
  {
   "cell_type": "code",
   "execution_count": 27,
   "metadata": {},
   "outputs": [
    {
     "data": {
      "text/plain": [
       "0        0\n",
       "1        6\n",
       "2        4\n",
       "3        4\n",
       "4        0\n",
       "        ..\n",
       "11752    7\n",
       "11753    5\n",
       "11754    3\n",
       "11755    5\n",
       "11756    2\n",
       "Name: Relation, Length: 9822, dtype: int64"
      ]
     },
     "execution_count": 27,
     "metadata": {},
     "output_type": "execute_result"
    }
   ],
   "source": [
    "y"
   ]
  },
  {
   "cell_type": "markdown",
   "metadata": {},
   "source": [
    "# Classification"
   ]
  },
  {
   "cell_type": "code",
   "execution_count": 28,
   "metadata": {},
   "outputs": [],
   "source": [
    "kf = KFold(n_splits=5, shuffle=True, random_state=2020)\n",
    "\n",
    "def train_and_verify(model):\n",
    "    scores = []\n",
    "\n",
    "    for train, test in kf.split(X):\n",
    "        X_train, X_test, y_train, y_test = X.iloc[train], X.iloc[test], y.iloc[train], y.iloc[test]\n",
    "\n",
    "        model.fit(X_train, y_train)\n",
    "        y_pred = model.predict(X_test)\n",
    "        scores.append(accuracy_score(y_test, y_pred))\n",
    "\n",
    "    print(f'Mean from scores: {np.mean(scores):.2f}')\n",
    "    print(f'Std from scores: {np.std(scores):.2f}')\n",
    "    \n",
    "    return scores"
   ]
  },
  {
   "cell_type": "markdown",
   "metadata": {},
   "source": [
    "# Decision Tree Classifier "
   ]
  },
  {
   "cell_type": "code",
   "execution_count": 29,
   "metadata": {},
   "outputs": [
    {
     "name": "stdout",
     "output_type": "stream",
     "text": [
      "Mean from scores: 0.29\n",
      "Std from scores: 0.01\n"
     ]
    },
    {
     "data": {
      "text/plain": [
       "[0.29974554707379136,\n",
       " 0.2748091603053435,\n",
       " 0.3095723014256619,\n",
       " 0.2846232179226069,\n",
       " 0.2785132382892057]"
      ]
     },
     "execution_count": 29,
     "metadata": {},
     "output_type": "execute_result"
    }
   ],
   "source": [
    "dt_cls = DecisionTreeClassifier(max_depth=7)\n",
    "train_and_verify(dt_cls)"
   ]
  },
  {
   "cell_type": "code",
   "execution_count": 30,
   "metadata": {},
   "outputs": [],
   "source": [
    "predicted = dt_cls.predict(X)\n",
    "cm = confusion_matrix(y, predicted)"
   ]
  },
  {
   "cell_type": "code",
   "execution_count": 31,
   "metadata": {},
   "outputs": [
    {
     "data": {
      "image/png": "[encoded data removed]",
      "text/plain": [
       "<Figure size 1440x720 with 2 Axes>"
      ]
     },
     "metadata": {},
     "output_type": "display_data"
    }
   ],
   "source": [
    "names = [0,1]\n",
    "fig, ax = plt.subplots()\n",
    "tick_marks = np.arange(len(names))\n",
    "\n",
    "plt.xticks(tick_marks, names)\n",
    "plt.yticks(tick_marks, names)\n",
    "\n",
    "sns.heatmap(cm, annot=True, cmap=\"YlGnBu\" ,fmt='g')\n",
    "ax.xaxis.set_label_position('top')\n",
    "\n",
    "plt.tight_layout()\n",
    "plt.title('Confusion matrix', y = 1.1)\n",
    "plt.ylabel('Actual label')\n",
    "plt.xlabel('Predicted label')\n",
    "plt.show()"
   ]
  },
  {
   "cell_type": "code",
   "execution_count": 32,
   "metadata": {},
   "outputs": [],
   "source": [
    "pickle.dump(dt_cls, open('classifiers/dt_cls.pkl', 'wb'))"
   ]
  },
  {
   "cell_type": "markdown",
   "metadata": {},
   "source": [
    "# SVM"
   ]
  },
  {
   "cell_type": "code",
   "execution_count": 33,
   "metadata": {},
   "outputs": [
    {
     "name": "stdout",
     "output_type": "stream",
     "text": [
      "Mean from scores: 0.28\n",
      "Std from scores: 0.02\n"
     ]
    },
    {
     "data": {
      "text/plain": [
       "[0.2972010178117048,\n",
       " 0.2498727735368957,\n",
       " 0.29480651731160895,\n",
       " 0.27342158859470467,\n",
       " 0.2836048879837067]"
      ]
     },
     "execution_count": 33,
     "metadata": {},
     "output_type": "execute_result"
    }
   ],
   "source": [
    "svm_cls = SVC(kernel='linear')\n",
    "train_and_verify(svm_cls)"
   ]
  },
  {
   "cell_type": "code",
   "execution_count": 34,
   "metadata": {},
   "outputs": [],
   "source": [
    "predicted = svm_cls.predict(X)\n",
    "cm = confusion_matrix(y, predicted)"
   ]
  },
  {
   "cell_type": "code",
   "execution_count": 35,
   "metadata": {},
   "outputs": [
    {
     "data": {
      "image/png": "[encoded data removed]",
      "text/plain": [
       "<Figure size 1440x720 with 2 Axes>"
      ]
     },
     "metadata": {},
     "output_type": "display_data"
    }
   ],
   "source": [
    "names = [0,1]\n",
    "fig, ax = plt.subplots()\n",
    "tick_marks = np.arange(len(names))\n",
    "\n",
    "plt.xticks(tick_marks, names)\n",
    "plt.yticks(tick_marks, names)\n",
    "\n",
    "sns.heatmap(cm, annot=True, cmap=\"YlGnBu\" ,fmt='g')\n",
    "ax.xaxis.set_label_position('top')\n",
    "\n",
    "plt.tight_layout()\n",
    "plt.title('Confusion matrix', y = 1.1)\n",
    "plt.ylabel('Actual label')\n",
    "plt.xlabel('Predicted label')\n",
    "plt.show()"
   ]
  },
  {
   "cell_type": "code",
   "execution_count": 36,
   "metadata": {},
   "outputs": [],
   "source": [
    "pickle.dump(svm_cls, open('classifiers/svm_cls.pkl', 'wb'))"
   ]
  },
  {
   "cell_type": "markdown",
   "metadata": {},
   "source": [
    "# Gaussian Naive Bayes"
   ]
  },
  {
   "cell_type": "code",
   "execution_count": 37,
   "metadata": {},
   "outputs": [
    {
     "name": "stdout",
     "output_type": "stream",
     "text": [
      "Mean from scores: 0.27\n",
      "Std from scores: 0.01\n"
     ]
    },
    {
     "data": {
      "text/plain": [
       "[0.2865139949109415,\n",
       " 0.24681933842239187,\n",
       " 0.280040733197556,\n",
       " 0.26629327902240324,\n",
       " 0.28105906313645623]"
      ]
     },
     "execution_count": 37,
     "metadata": {},
     "output_type": "execute_result"
    }
   ],
   "source": [
    "gnb_cls = GaussianNB()\n",
    "train_and_verify(gnb_cls)"
   ]
  },
  {
   "cell_type": "code",
   "execution_count": 38,
   "metadata": {},
   "outputs": [],
   "source": [
    "predicted = gnb_cls.predict(X)\n",
    "cm = confusion_matrix(y, predicted)"
   ]
  },
  {
   "cell_type": "code",
   "execution_count": 39,
   "metadata": {},
   "outputs": [
    {
     "data": {
      "image/png": "[encoded data removed]",
      "text/plain": [
       "<Figure size 1440x720 with 2 Axes>"
      ]
     },
     "metadata": {},
     "output_type": "display_data"
    }
   ],
   "source": [
    "names = [0,1]\n",
    "fig, ax = plt.subplots()\n",
    "tick_marks = np.arange(len(names))\n",
    "\n",
    "plt.xticks(tick_marks, names)\n",
    "plt.yticks(tick_marks, names)\n",
    "\n",
    "sns.heatmap(cm, annot=True, cmap=\"YlGnBu\" ,fmt='g')\n",
    "ax.xaxis.set_label_position('top')\n",
    "\n",
    "plt.tight_layout()\n",
    "plt.title('Confusion matrix', y = 1.1)\n",
    "plt.ylabel('Actual label')\n",
    "plt.xlabel('Predicted label')\n",
    "plt.show()"
   ]
  },
  {
   "cell_type": "code",
   "execution_count": 40,
   "metadata": {},
   "outputs": [],
   "source": [
    "pickle.dump(gnb_cls, open('classifiers/gnb_cls.pkl', 'wb'))"
   ]
  },
  {
   "cell_type": "markdown",
   "metadata": {},
   "source": [
    "# Classification on schizo dataset"
   ]
  },
  {
   "cell_type": "code",
   "execution_count": 41,
   "metadata": {},
   "outputs": [],
   "source": [
    "schizo_processed_dir = base_dir + 'data/schizo/schizo/processed/'\n",
    "schizo_healthy_processed_dir = base_dir + 'data/schizo/healthy/processed/'\n",
    "\n",
    "df_healthy = get_df_from_csvs_in_path(schizo_processed_dir)\n",
    "df_schizo = get_df_from_csvs_in_path(schizo_healthy_processed_dir)\n",
    "\n",
    "df_healthy['joined_edus'] = df_healthy.EDU_1 + ' ' + df_healthy.EDU_2\n",
    "df_schizo['joined_edus'] = df_schizo.EDU_1 + ' ' + df_schizo.EDU_2\n",
    "\n",
    "df_healthy.dropna(inplace=True)\n",
    "df_schizo.dropna(inplace=True)"
   ]
  },
  {
   "cell_type": "code",
   "execution_count": 42,
   "metadata": {},
   "outputs": [
    {
     "data": {
      "text/html": [
       "<div>\n",
       "<style scoped>\n",
       "    .dataframe tbody tr th:only-of-type {\n",
       "        vertical-align: middle;\n",
       "    }\n",
       "\n",
       "    .dataframe tbody tr th {\n",
       "        vertical-align: top;\n",
       "    }\n",
       "\n",
       "    .dataframe thead th {\n",
       "        text-align: right;\n",
       "    }\n",
       "</style>\n",
       "<table border=\"1\" class=\"dataframe\">\n",
       "  <thead>\n",
       "    <tr style=\"text-align: right;\">\n",
       "      <th></th>\n",
       "      <th>EDU_1</th>\n",
       "      <th>EDU_2</th>\n",
       "      <th>Relation</th>\n",
       "      <th>joined_edus</th>\n",
       "    </tr>\n",
       "  </thead>\n",
       "  <tbody>\n",
       "    <tr>\n",
       "      <th>0</th>\n",
       "      <td>где-нибудь в предгорьях на Кавказе</td>\n",
       "      <td>действие происходит где-нибудь на юге там</td>\n",
       "      <td>elaboration_r</td>\n",
       "      <td>где-нибудь в предгорьях на Кавказе действие пр...</td>\n",
       "    </tr>\n",
       "    <tr>\n",
       "      <th>1</th>\n",
       "      <td>либо в средней азии</td>\n",
       "      <td>действие происходит где-нибудь на юге там</td>\n",
       "      <td>contrast_m</td>\n",
       "      <td>либо в средней азии действие происходит где-ни...</td>\n",
       "    </tr>\n",
       "    <tr>\n",
       "      <th>2</th>\n",
       "      <td>который груши собирает</td>\n",
       "      <td>мужчина лет сорока пяти там</td>\n",
       "      <td>elaboration_r</td>\n",
       "      <td>который груши собирает мужчина лет сорока пяти...</td>\n",
       "    </tr>\n",
       "    <tr>\n",
       "      <th>3</th>\n",
       "      <td>взял лестницу</td>\n",
       "      <td>мужчина лет сорока пяти там</td>\n",
       "      <td>joint_m</td>\n",
       "      <td>взял лестницу мужчина лет сорока пяти там</td>\n",
       "    </tr>\n",
       "    <tr>\n",
       "      <th>4</th>\n",
       "      <td>по лестнице на дерево там</td>\n",
       "      <td>мужчина лет сорока пяти там</td>\n",
       "      <td>elaboration_r</td>\n",
       "      <td>по лестнице на дерево там мужчина лет сорока п...</td>\n",
       "    </tr>\n",
       "    <tr>\n",
       "      <th>...</th>\n",
       "      <td>...</td>\n",
       "      <td>...</td>\n",
       "      <td>...</td>\n",
       "      <td>...</td>\n",
       "    </tr>\n",
       "    <tr>\n",
       "      <th>309</th>\n",
       "      <td>который собирал груши 20</td>\n",
       "      <td>человек 19</td>\n",
       "      <td>elaboration_r</td>\n",
       "      <td>который собирал груши 20 человек 19</td>\n",
       "    </tr>\n",
       "    <tr>\n",
       "      <th>310</th>\n",
       "      <td>спустился с лестницы 19</td>\n",
       "      <td>человек 19</td>\n",
       "      <td>joint_m</td>\n",
       "      <td>спустился с лестницы 19 человек 19</td>\n",
       "    </tr>\n",
       "    <tr>\n",
       "      <th>311</th>\n",
       "      <td>он заметил 21</td>\n",
       "      <td>что не хватает корзины 22</td>\n",
       "      <td>evidence_r</td>\n",
       "      <td>он заметил 21 что не хватает корзины 22</td>\n",
       "    </tr>\n",
       "    <tr>\n",
       "      <th>312</th>\n",
       "      <td>что не хватает корзины 22</td>\n",
       "      <td>человек 19</td>\n",
       "      <td>antithesis_r</td>\n",
       "      <td>что не хватает корзины 22 человек 19</td>\n",
       "    </tr>\n",
       "    <tr>\n",
       "      <th>313</th>\n",
       "      <td>вот 23</td>\n",
       "      <td>то есть залез по лестнице на дерево 2</td>\n",
       "      <td>antithesis_r</td>\n",
       "      <td>вот 23 то есть залез по лестнице на дерево 2</td>\n",
       "    </tr>\n",
       "  </tbody>\n",
       "</table>\n",
       "<p>314 rows × 4 columns</p>\n",
       "</div>"
      ],
      "text/plain": [
       "                                  EDU_1  \\\n",
       "0    где-нибудь в предгорьях на Кавказе   \n",
       "1                   либо в средней азии   \n",
       "2                который груши собирает   \n",
       "3                         взял лестницу   \n",
       "4             по лестнице на дерево там   \n",
       "..                                  ...   \n",
       "309            который собирал груши 20   \n",
       "310             спустился с лестницы 19   \n",
       "311                       он заметил 21   \n",
       "312           что не хватает корзины 22   \n",
       "313                              вот 23   \n",
       "\n",
       "                                         EDU_2       Relation  \\\n",
       "0    действие происходит где-нибудь на юге там  elaboration_r   \n",
       "1    действие происходит где-нибудь на юге там     contrast_m   \n",
       "2                  мужчина лет сорока пяти там  elaboration_r   \n",
       "3                  мужчина лет сорока пяти там        joint_m   \n",
       "4                  мужчина лет сорока пяти там  elaboration_r   \n",
       "..                                         ...            ...   \n",
       "309                                 человек 19  elaboration_r   \n",
       "310                                 человек 19        joint_m   \n",
       "311                  что не хватает корзины 22     evidence_r   \n",
       "312                                 человек 19   antithesis_r   \n",
       "313      то есть залез по лестнице на дерево 2   antithesis_r   \n",
       "\n",
       "                                           joined_edus  \n",
       "0    где-нибудь в предгорьях на Кавказе действие пр...  \n",
       "1    либо в средней азии действие происходит где-ни...  \n",
       "2    который груши собирает мужчина лет сорока пяти...  \n",
       "3            взял лестницу мужчина лет сорока пяти там  \n",
       "4    по лестнице на дерево там мужчина лет сорока п...  \n",
       "..                                                 ...  \n",
       "309                который собирал груши 20 человек 19  \n",
       "310                 спустился с лестницы 19 человек 19  \n",
       "311            он заметил 21 что не хватает корзины 22  \n",
       "312               что не хватает корзины 22 человек 19  \n",
       "313       вот 23 то есть залез по лестнице на дерево 2  \n",
       "\n",
       "[314 rows x 4 columns]"
      ]
     },
     "execution_count": 42,
     "metadata": {},
     "output_type": "execute_result"
    }
   ],
   "source": [
    "df_healthy"
   ]
  },
  {
   "cell_type": "code",
   "execution_count": 43,
   "metadata": {},
   "outputs": [
    {
     "data": {
      "text/html": [
       "<div>\n",
       "<style scoped>\n",
       "    .dataframe tbody tr th:only-of-type {\n",
       "        vertical-align: middle;\n",
       "    }\n",
       "\n",
       "    .dataframe tbody tr th {\n",
       "        vertical-align: top;\n",
       "    }\n",
       "\n",
       "    .dataframe thead th {\n",
       "        text-align: right;\n",
       "    }\n",
       "</style>\n",
       "<table border=\"1\" class=\"dataframe\">\n",
       "  <thead>\n",
       "    <tr style=\"text-align: right;\">\n",
       "      <th></th>\n",
       "      <th>EDU_1</th>\n",
       "      <th>EDU_2</th>\n",
       "      <th>Relation</th>\n",
       "      <th>joined_edus</th>\n",
       "    </tr>\n",
       "  </thead>\n",
       "  <tbody>\n",
       "    <tr>\n",
       "      <th>0</th>\n",
       "      <td>ну я б сказала 1</td>\n",
       "      <td>не очень правдоподобная история 2</td>\n",
       "      <td>evaluation_r</td>\n",
       "      <td>ну я б сказала 1 не очень правдоподобная истор...</td>\n",
       "    </tr>\n",
       "    <tr>\n",
       "      <th>1</th>\n",
       "      <td>не очень правдоподобная история 2</td>\n",
       "      <td>человек собирает груши 15</td>\n",
       "      <td>antithesis_r</td>\n",
       "      <td>не очень правдоподобная история 2 человек соби...</td>\n",
       "    </tr>\n",
       "    <tr>\n",
       "      <th>2</th>\n",
       "      <td>потому что этот человек 3</td>\n",
       "      <td>не очень правдоподобная история 2</td>\n",
       "      <td>cause_r</td>\n",
       "      <td>потому что этот человек 3 не очень правдоподоб...</td>\n",
       "    </tr>\n",
       "    <tr>\n",
       "      <th>3</th>\n",
       "      <td>убирающий собирающий груши 4</td>\n",
       "      <td>потому что этот человек 3</td>\n",
       "      <td>elaboration_r</td>\n",
       "      <td>убирающий собирающий груши 4 потому что этот ч...</td>\n",
       "    </tr>\n",
       "    <tr>\n",
       "      <th>4</th>\n",
       "      <td>наверняка он все-таки звук слышит хорошо 5</td>\n",
       "      <td>потому что этот человек 3</td>\n",
       "      <td>joint_m</td>\n",
       "      <td>наверняка он все-таки звук слышит хорошо 5 пот...</td>\n",
       "    </tr>\n",
       "    <tr>\n",
       "      <th>...</th>\n",
       "      <td>...</td>\n",
       "      <td>...</td>\n",
       "      <td>...</td>\n",
       "      <td>...</td>\n",
       "    </tr>\n",
       "    <tr>\n",
       "      <th>544</th>\n",
       "      <td>он их за это угостил грушами вот 47</td>\n",
       "      <td>но это самое а шляпа-то у него улетела тоже 43</td>\n",
       "      <td>result_r</td>\n",
       "      <td>он их за это угостил грушами вот 47 но это сам...</td>\n",
       "    </tr>\n",
       "    <tr>\n",
       "      <th>545</th>\n",
       "      <td>это то есть мальчик такой ну благодарный 48</td>\n",
       "      <td>вот поехал дальше 42</td>\n",
       "      <td>antithesis_r</td>\n",
       "      <td>это то есть мальчик такой ну благодарный 48 во...</td>\n",
       "    </tr>\n",
       "    <tr>\n",
       "      <th>546</th>\n",
       "      <td>будем говорить да 49</td>\n",
       "      <td>это то есть мальчик такой ну благодарный 48</td>\n",
       "      <td>antithesis_r</td>\n",
       "      <td>будем говорить да 49 это то есть мальчик такой...</td>\n",
       "    </tr>\n",
       "    <tr>\n",
       "      <th>547</th>\n",
       "      <td>вот ну и в общем повёз это всё домой помощник 50</td>\n",
       "      <td>вот поехал дальше 42</td>\n",
       "      <td>sequence_m</td>\n",
       "      <td>вот ну и в общем повёз это всё домой помощник ...</td>\n",
       "    </tr>\n",
       "    <tr>\n",
       "      <th>548</th>\n",
       "      <td>ну вот так вот у меня 51</td>\n",
       "      <td>он собирал 10</td>\n",
       "      <td>antithesis_r</td>\n",
       "      <td>ну вот так вот у меня 51 он собирал 10</td>\n",
       "    </tr>\n",
       "  </tbody>\n",
       "</table>\n",
       "<p>549 rows × 4 columns</p>\n",
       "</div>"
      ],
      "text/plain": [
       "                                                EDU_1  \\\n",
       "0                                    ну я б сказала 1   \n",
       "1                   не очень правдоподобная история 2   \n",
       "2                           потому что этот человек 3   \n",
       "3                        убирающий собирающий груши 4   \n",
       "4          наверняка он все-таки звук слышит хорошо 5   \n",
       "..                                                ...   \n",
       "544               он их за это угостил грушами вот 47   \n",
       "545       это то есть мальчик такой ну благодарный 48   \n",
       "546                              будем говорить да 49   \n",
       "547  вот ну и в общем повёз это всё домой помощник 50   \n",
       "548                          ну вот так вот у меня 51   \n",
       "\n",
       "                                              EDU_2       Relation  \\\n",
       "0                 не очень правдоподобная история 2   evaluation_r   \n",
       "1                         человек собирает груши 15   antithesis_r   \n",
       "2                 не очень правдоподобная история 2        cause_r   \n",
       "3                         потому что этот человек 3  elaboration_r   \n",
       "4                         потому что этот человек 3        joint_m   \n",
       "..                                              ...            ...   \n",
       "544  но это самое а шляпа-то у него улетела тоже 43       result_r   \n",
       "545                            вот поехал дальше 42   antithesis_r   \n",
       "546     это то есть мальчик такой ну благодарный 48   antithesis_r   \n",
       "547                            вот поехал дальше 42     sequence_m   \n",
       "548                                   он собирал 10   antithesis_r   \n",
       "\n",
       "                                           joined_edus  \n",
       "0    ну я б сказала 1 не очень правдоподобная истор...  \n",
       "1    не очень правдоподобная история 2 человек соби...  \n",
       "2    потому что этот человек 3 не очень правдоподоб...  \n",
       "3    убирающий собирающий груши 4 потому что этот ч...  \n",
       "4    наверняка он все-таки звук слышит хорошо 5 пот...  \n",
       "..                                                 ...  \n",
       "544  он их за это угостил грушами вот 47 но это сам...  \n",
       "545  это то есть мальчик такой ну благодарный 48 во...  \n",
       "546  будем говорить да 49 это то есть мальчик такой...  \n",
       "547  вот ну и в общем повёз это всё домой помощник ...  \n",
       "548             ну вот так вот у меня 51 он собирал 10  \n",
       "\n",
       "[549 rows x 4 columns]"
      ]
     },
     "execution_count": 43,
     "metadata": {},
     "output_type": "execute_result"
    }
   ],
   "source": [
    "df_schizo"
   ]
  },
  {
   "cell_type": "code",
   "execution_count": 44,
   "metadata": {},
   "outputs": [],
   "source": [
    "df_healthy = extract_features(df_healthy)\n",
    "df_schizo = extract_features(df_schizo)\n",
    "\n",
    "df_healthy = preprocess(df_healthy)\n",
    "df_schizo = preprocess(df_schizo)"
   ]
  },
  {
   "cell_type": "code",
   "execution_count": 45,
   "metadata": {},
   "outputs": [
    {
     "data": {
      "text/html": [
       "<div>\n",
       "<style scoped>\n",
       "    .dataframe tbody tr th:only-of-type {\n",
       "        vertical-align: middle;\n",
       "    }\n",
       "\n",
       "    .dataframe tbody tr th {\n",
       "        vertical-align: top;\n",
       "    }\n",
       "\n",
       "    .dataframe thead th {\n",
       "        text-align: right;\n",
       "    }\n",
       "</style>\n",
       "<table border=\"1\" class=\"dataframe\">\n",
       "  <thead>\n",
       "    <tr style=\"text-align: right;\">\n",
       "      <th></th>\n",
       "      <th>Relation</th>\n",
       "      <th>num_of_words</th>\n",
       "      <th>avg_word_len</th>\n",
       "      <th>upcase_words_num</th>\n",
       "      <th>bleu_score</th>\n",
       "    </tr>\n",
       "  </thead>\n",
       "  <tbody>\n",
       "    <tr>\n",
       "      <th>0</th>\n",
       "      <td>2</td>\n",
       "      <td>0.44</td>\n",
       "      <td>0.75</td>\n",
       "      <td>1.00</td>\n",
       "      <td>0.96</td>\n",
       "    </tr>\n",
       "    <tr>\n",
       "      <th>1</th>\n",
       "      <td>1</td>\n",
       "      <td>0.38</td>\n",
       "      <td>0.55</td>\n",
       "      <td>0.00</td>\n",
       "      <td>0.77</td>\n",
       "    </tr>\n",
       "    <tr>\n",
       "      <th>2</th>\n",
       "      <td>2</td>\n",
       "      <td>0.25</td>\n",
       "      <td>0.59</td>\n",
       "      <td>0.00</td>\n",
       "      <td>0.87</td>\n",
       "    </tr>\n",
       "    <tr>\n",
       "      <th>3</th>\n",
       "      <td>4</td>\n",
       "      <td>0.19</td>\n",
       "      <td>0.50</td>\n",
       "      <td>0.00</td>\n",
       "      <td>0.69</td>\n",
       "    </tr>\n",
       "    <tr>\n",
       "      <th>4</th>\n",
       "      <td>2</td>\n",
       "      <td>0.38</td>\n",
       "      <td>0.35</td>\n",
       "      <td>0.00</td>\n",
       "      <td>0.98</td>\n",
       "    </tr>\n",
       "    <tr>\n",
       "      <th>...</th>\n",
       "      <td>...</td>\n",
       "      <td>...</td>\n",
       "      <td>...</td>\n",
       "      <td>...</td>\n",
       "      <td>...</td>\n",
       "    </tr>\n",
       "    <tr>\n",
       "      <th>304</th>\n",
       "      <td>6</td>\n",
       "      <td>0.44</td>\n",
       "      <td>0.14</td>\n",
       "      <td>0.00</td>\n",
       "      <td>0.93</td>\n",
       "    </tr>\n",
       "    <tr>\n",
       "      <th>305</th>\n",
       "      <td>6</td>\n",
       "      <td>0.31</td>\n",
       "      <td>0.22</td>\n",
       "      <td>0.00</td>\n",
       "      <td>0.90</td>\n",
       "    </tr>\n",
       "    <tr>\n",
       "      <th>308</th>\n",
       "      <td>6</td>\n",
       "      <td>0.38</td>\n",
       "      <td>0.22</td>\n",
       "      <td>0.00</td>\n",
       "      <td>0.48</td>\n",
       "    </tr>\n",
       "    <tr>\n",
       "      <th>309</th>\n",
       "      <td>2</td>\n",
       "      <td>0.12</td>\n",
       "      <td>0.50</td>\n",
       "      <td>0.00</td>\n",
       "      <td>0.18</td>\n",
       "    </tr>\n",
       "    <tr>\n",
       "      <th>310</th>\n",
       "      <td>4</td>\n",
       "      <td>0.12</td>\n",
       "      <td>0.46</td>\n",
       "      <td>0.00</td>\n",
       "      <td>0.23</td>\n",
       "    </tr>\n",
       "  </tbody>\n",
       "</table>\n",
       "<p>192 rows × 5 columns</p>\n",
       "</div>"
      ],
      "text/plain": [
       "     Relation  num_of_words  avg_word_len  upcase_words_num  bleu_score\n",
       "0           2          0.44          0.75              1.00        0.96\n",
       "1           1          0.38          0.55              0.00        0.77\n",
       "2           2          0.25          0.59              0.00        0.87\n",
       "3           4          0.19          0.50              0.00        0.69\n",
       "4           2          0.38          0.35              0.00        0.98\n",
       "..        ...           ...           ...               ...         ...\n",
       "304         6          0.44          0.14              0.00        0.93\n",
       "305         6          0.31          0.22              0.00        0.90\n",
       "308         6          0.38          0.22              0.00        0.48\n",
       "309         2          0.12          0.50              0.00        0.18\n",
       "310         4          0.12          0.46              0.00        0.23\n",
       "\n",
       "[192 rows x 5 columns]"
      ]
     },
     "execution_count": 45,
     "metadata": {},
     "output_type": "execute_result"
    }
   ],
   "source": [
    "df_healthy"
   ]
  },
  {
   "cell_type": "code",
   "execution_count": 46,
   "metadata": {},
   "outputs": [
    {
     "data": {
      "text/html": [
       "<div>\n",
       "<style scoped>\n",
       "    .dataframe tbody tr th:only-of-type {\n",
       "        vertical-align: middle;\n",
       "    }\n",
       "\n",
       "    .dataframe tbody tr th {\n",
       "        vertical-align: top;\n",
       "    }\n",
       "\n",
       "    .dataframe thead th {\n",
       "        text-align: right;\n",
       "    }\n",
       "</style>\n",
       "<table border=\"1\" class=\"dataframe\">\n",
       "  <thead>\n",
       "    <tr style=\"text-align: right;\">\n",
       "      <th></th>\n",
       "      <th>Relation</th>\n",
       "      <th>num_of_words</th>\n",
       "      <th>avg_word_len</th>\n",
       "      <th>upcase_words_num</th>\n",
       "      <th>bleu_score</th>\n",
       "    </tr>\n",
       "  </thead>\n",
       "  <tbody>\n",
       "    <tr>\n",
       "      <th>0</th>\n",
       "      <td>4</td>\n",
       "      <td>0.26</td>\n",
       "      <td>0.51</td>\n",
       "      <td>0.00</td>\n",
       "      <td>0.63</td>\n",
       "    </tr>\n",
       "    <tr>\n",
       "      <th>2</th>\n",
       "      <td>0</td>\n",
       "      <td>0.26</td>\n",
       "      <td>0.75</td>\n",
       "      <td>0.00</td>\n",
       "      <td>0.77</td>\n",
       "    </tr>\n",
       "    <tr>\n",
       "      <th>3</th>\n",
       "      <td>3</td>\n",
       "      <td>0.22</td>\n",
       "      <td>0.78</td>\n",
       "      <td>0.00</td>\n",
       "      <td>0.45</td>\n",
       "    </tr>\n",
       "    <tr>\n",
       "      <th>4</th>\n",
       "      <td>5</td>\n",
       "      <td>0.35</td>\n",
       "      <td>0.68</td>\n",
       "      <td>0.00</td>\n",
       "      <td>0.46</td>\n",
       "    </tr>\n",
       "    <tr>\n",
       "      <th>5</th>\n",
       "      <td>0</td>\n",
       "      <td>0.43</td>\n",
       "      <td>0.54</td>\n",
       "      <td>0.00</td>\n",
       "      <td>0.82</td>\n",
       "    </tr>\n",
       "    <tr>\n",
       "      <th>...</th>\n",
       "      <td>...</td>\n",
       "      <td>...</td>\n",
       "      <td>...</td>\n",
       "      <td>...</td>\n",
       "      <td>...</td>\n",
       "    </tr>\n",
       "    <tr>\n",
       "      <th>539</th>\n",
       "      <td>7</td>\n",
       "      <td>0.13</td>\n",
       "      <td>0.48</td>\n",
       "      <td>0.00</td>\n",
       "      <td>0.45</td>\n",
       "    </tr>\n",
       "    <tr>\n",
       "      <th>540</th>\n",
       "      <td>7</td>\n",
       "      <td>0.43</td>\n",
       "      <td>0.44</td>\n",
       "      <td>0.00</td>\n",
       "      <td>0.26</td>\n",
       "    </tr>\n",
       "    <tr>\n",
       "      <th>542</th>\n",
       "      <td>7</td>\n",
       "      <td>0.61</td>\n",
       "      <td>0.49</td>\n",
       "      <td>0.00</td>\n",
       "      <td>0.88</td>\n",
       "    </tr>\n",
       "    <tr>\n",
       "      <th>543</th>\n",
       "      <td>7</td>\n",
       "      <td>0.39</td>\n",
       "      <td>0.44</td>\n",
       "      <td>0.00</td>\n",
       "      <td>0.56</td>\n",
       "    </tr>\n",
       "    <tr>\n",
       "      <th>547</th>\n",
       "      <td>7</td>\n",
       "      <td>0.48</td>\n",
       "      <td>0.39</td>\n",
       "      <td>0.00</td>\n",
       "      <td>0.18</td>\n",
       "    </tr>\n",
       "  </tbody>\n",
       "</table>\n",
       "<p>324 rows × 5 columns</p>\n",
       "</div>"
      ],
      "text/plain": [
       "     Relation  num_of_words  avg_word_len  upcase_words_num  bleu_score\n",
       "0           4          0.26          0.51              0.00        0.63\n",
       "2           0          0.26          0.75              0.00        0.77\n",
       "3           3          0.22          0.78              0.00        0.45\n",
       "4           5          0.35          0.68              0.00        0.46\n",
       "5           0          0.43          0.54              0.00        0.82\n",
       "..        ...           ...           ...               ...         ...\n",
       "539         7          0.13          0.48              0.00        0.45\n",
       "540         7          0.43          0.44              0.00        0.26\n",
       "542         7          0.61          0.49              0.00        0.88\n",
       "543         7          0.39          0.44              0.00        0.56\n",
       "547         7          0.48          0.39              0.00        0.18\n",
       "\n",
       "[324 rows x 5 columns]"
      ]
     },
     "execution_count": 46,
     "metadata": {},
     "output_type": "execute_result"
    }
   ],
   "source": [
    "df_schizo"
   ]
  },
  {
   "cell_type": "code",
   "execution_count": 47,
   "metadata": {},
   "outputs": [],
   "source": [
    "X_healthy = df_healthy.drop(columns=['Relation'])\n",
    "y_healthy = df_healthy.Relation"
   ]
  },
  {
   "cell_type": "code",
   "execution_count": 48,
   "metadata": {},
   "outputs": [],
   "source": [
    "X_schizo = df_schizo.drop(columns=['Relation'])\n",
    "y_schizo = df_schizo.Relation"
   ]
  },
  {
   "cell_type": "code",
   "execution_count": 49,
   "metadata": {},
   "outputs": [
    {
     "name": "stdout",
     "output_type": "stream",
     "text": [
      "SVM healthy accuracy: 0.03125\n",
      "Decision Tree Classifier healthy accuracy: 0.08854166666666667\n",
      "Gaussian Naive Bayes healthy accuracy: 0.03125\n"
     ]
    }
   ],
   "source": [
    "print(f\"SVM healthy accuracy: {accuracy_score(y_healthy, svm_cls.predict(X_healthy))}\")\n",
    "print(f\"Decision Tree Classifier healthy accuracy: {accuracy_score(y_healthy, dt_cls.predict(X_healthy))}\")\n",
    "print(f\"Gaussian Naive Bayes healthy accuracy: {accuracy_score(y_healthy, gnb_cls.predict(X_healthy))}\")"
   ]
  },
  {
   "cell_type": "code",
   "execution_count": 50,
   "metadata": {},
   "outputs": [
    {
     "name": "stdout",
     "output_type": "stream",
     "text": [
      "SVM schizo accuracy: 0.14506172839506173\n",
      "Decision Tree Classifier schizo accuracy: 0.08333333333333333\n",
      "Gaussian Naive Bayes schizo accuracy: 0.11728395061728394\n"
     ]
    }
   ],
   "source": [
    "print(f\"SVM schizo accuracy: {accuracy_score(y_schizo, svm_cls.predict(X_schizo))}\")\n",
    "print(f\"Decision Tree Classifier schizo accuracy: {accuracy_score(y_schizo, dt_cls.predict(X_schizo))}\")\n",
    "print(f\"Gaussian Naive Bayes schizo accuracy: {accuracy_score(y_schizo, gnb_cls.predict(X_schizo))}\")"
   ]
  }
 ],
 "metadata": {
  "kernelspec": {
   "display_name": "Python 3",
   "language": "python",
   "name": "python3"
  },
  "language_info": {
   "codemirror_mode": {
    "name": "ipython",
    "version": 3
   },
   "file_extension": ".py",
   "mimetype": "text/x-python",
   "name": "python",
   "nbconvert_exporter": "python",
   "pygments_lexer": "ipython3",
   "version": "3.7.7"
  }
 },
 "nbformat": 4,
 "nbformat_minor": 4
}
